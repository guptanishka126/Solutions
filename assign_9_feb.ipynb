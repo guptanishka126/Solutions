{
 "cells": [
  {
   "cell_type": "code",
   "execution_count": 9,
   "id": "3c0acb78-863b-4e51-9a28-707866292c9f",
   "metadata": {},
   "outputs": [],
   "source": [
    "#A1. \n",
    "import abc\n",
    "class vehicle:\n",
    "    @abc.abstractmethod\n",
    "    def __init__(self, name_of_vehicle, max_speed, average_of_vehicles):\n",
    "        self.name_of_vehicle = name_of_vehicle\n",
    "        self.max_speed = max_speed\n",
    "        self.average_of_vehicles = average_of_vehicles"
   ]
  },
  {
   "cell_type": "code",
   "execution_count": 11,
   "id": "67805050-18f1-4e50-82a3-76f6553acdb1",
   "metadata": {},
   "outputs": [
    {
     "name": "stdout",
     "output_type": "stream",
     "text": [
      "The vehicle motorcycle, has a seating capacity of 2\n",
      "The vehicle scooty, has a seating capacity of 3\n"
     ]
    }
   ],
   "source": [
    "#A2.\n",
    "class car(vehicle):\n",
    "    def seating_capacity(self, capacity):\n",
    "        self.capacity = capacity\n",
    "        return f\"The vehicle {self.name_of_vehicle}, has a seating capacity of {self.capacity}\"\n",
    "vehicle1 = car(\"motorcycle\",400,1200)\n",
    "print(vehicle1.seating_capacity(2))\n",
    "vehicle2 = car(\"scooty\",400,1200)\n",
    "print(vehicle2.seating_capacity(3))"
   ]
  },
  {
   "cell_type": "code",
   "execution_count": 16,
   "id": "a005dcf1-4ea9-469f-b6cc-320ab46978aa",
   "metadata": {},
   "outputs": [
    {
     "data": {
      "text/plain": [
       "'This is a method from class2'"
      ]
     },
     "execution_count": 16,
     "metadata": {},
     "output_type": "execute_result"
    }
   ],
   "source": [
    "#A3.\n",
    "\"When a class is derived from more than one base class it is called multiple Inheritance. The derived class inherits all the features of the base case.Multiple inheritance is a feature in object-oriented programming where a class can inherit attributes and methods from multiple parent classes. This means that a child class can inherit properties and behaviors from more than one parent class.\"\n",
    "class class1:\n",
    "    def test_class1(self):\n",
    "        return \"This is a method from class1\"\n",
    "class class2(class1):\n",
    "    def test_class2(self):\n",
    "        return \"This is a method from class2\"\n",
    "class class3(class2):\n",
    "    pass\n",
    "obj_class3 = class3()\n",
    "#obj_class3.test_class1()\n",
    "obj_class3.test_class2()"
   ]
  },
  {
   "cell_type": "code",
   "execution_count": 19,
   "id": "9025d4c7-7439-442b-9b94-af10c2c5e57b",
   "metadata": {},
   "outputs": [
    {
     "data": {
      "text/plain": [
       "'In Python, getters and setters are not the same as those in other object-oriented programming languages. Basically, the main purpose of using getters and setters in object-oriented programs is to ensure data encapsulation. Private variables in python are not actually hidden fields like in other object oriented languages. Getters and Setters in python are often used when: 1)We use getters & setters to add validation logic around getting and setting a value. 2)To avoid direct access of a class field i.e. private variables cannot be accessed directly or modified by external user.'"
      ]
     },
     "execution_count": 19,
     "metadata": {},
     "output_type": "execute_result"
    }
   ],
   "source": [
    "#A4.\n",
    "\"In Python, getters and setters are not the same as those in other object-oriented programming languages. Basically, the main purpose of using getters and setters in object-oriented programs is to ensure data encapsulation. Private variables in python are not actually hidden fields like in other object oriented languages. Getters and Setters in python are often used when: 1)We use getters & setters to add validation logic around getting and setting a value. 2)To avoid direct access of a class field i.e. private variables cannot be accessed directly or modified by external user.\""
   ]
  },
  {
   "cell_type": "code",
   "execution_count": 20,
   "id": "bde0c6eb-0c25-4f41-8d72-4bcc28abef48",
   "metadata": {},
   "outputs": [
    {
     "name": "stdout",
     "output_type": "stream",
     "text": [
      "I have 4 sides. I am from Square class\n",
      "I am a 2D object. I am from shape class\n",
      "I have teal color. I am from Square class.\n",
      "Old value of data1 =  abc\n",
      "The value of data1 in Shape class overridden by the Square class =  New value\n"
     ]
    }
   ],
   "source": [
    "#A5.\n",
    "\"Method overriding is a feature in object-oriented programming where a child class provides a different implementation of a method that is already defined in its parent class. The overridden method in the child class has the same name and the same parameters as the method in the parent class, but it provides a different implementation.\"\n",
    "# Parent class\n",
    "class Shape:\n",
    "     data1 = \"abc\"\n",
    "    def no_of_sides(self):\n",
    "        print(\"My sides need to be defined. I am from shape class.\")\n",
    "\n",
    "    def two_dimensional(self):\n",
    "        print(\"I am a 2D object. I am from shape class\")\n",
    "class Square(Shape):\n",
    "    data2 = \"xyz\"\n",
    "\n",
    "    def no_of_sides(self):\n",
    "        print(\"I have 4 sides. I am from Square class\")\n",
    "\n",
    "    def color(self):\n",
    "        print(\"I have teal color. I am from Square class.\")\n",
    "sq = Square()\n",
    "sq.no_of_sides()\n",
    "sq.two_dimensional()\n",
    "sq.color()\n",
    "print(\"Old value of data1 = \", sq.data1)\n",
    "sq.data1 = \"New value\"\n",
    "print(\"The value of data1 in Shape class overridden by the Square class = \", sq.data1)\n",
    "\n"
   ]
  },
  {
   "cell_type": "code",
   "execution_count": null,
   "id": "467b848e-d065-4bbc-9b4a-2ad12b2b7f1a",
   "metadata": {},
   "outputs": [],
   "source": []
  }
 ],
 "metadata": {
  "kernelspec": {
   "display_name": "Python 3 (ipykernel)",
   "language": "python",
   "name": "python3"
  },
  "language_info": {
   "codemirror_mode": {
    "name": "ipython",
    "version": 3
   },
   "file_extension": ".py",
   "mimetype": "text/x-python",
   "name": "python",
   "nbconvert_exporter": "python",
   "pygments_lexer": "ipython3",
   "version": "3.10.8"
  }
 },
 "nbformat": 4,
 "nbformat_minor": 5
}
