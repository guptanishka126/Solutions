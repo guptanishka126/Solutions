{
 "cells": [
  {
   "cell_type": "code",
   "execution_count": 1,
   "id": "ff34a8c0-3635-4a3e-a453-4940a0133c85",
   "metadata": {},
   "outputs": [
    {
     "data": {
      "text/plain": [
       "[1, 3, 5, 7, 9, 11, 13, 15, 17, 19, 21, 23, 25]"
      ]
     },
     "execution_count": 1,
     "metadata": {},
     "output_type": "execute_result"
    }
   ],
   "source": [
    "#A1. To create a function def keyword is used.\n",
    "def odd_nums():\n",
    "    num = []\n",
    "    for i in range(1,26):\n",
    "        if i%2 == 1:\n",
    "            num.append(i)\n",
    "    return num\n",
    "odd_nums()"
   ]
  },
  {
   "cell_type": "markdown",
   "id": "7b5747f8-ae2f-4a33-be97-c76ab0ece0c9",
   "metadata": {},
   "source": [
    "#A2.\n",
    "The *args parameter allows a function to accept a variable number of positional arguments. It collects all the additional positional arguments passed to the function into a tuple.\n",
    "def concat_strings(*args):\n",
    "    result = \" \"\n",
    "    for arg in args:\n",
    "        result += arg\n",
    "    return result\n",
    "print(concat_strings(\"Hello\", \" \", \"world\", \"!\"))\n",
    "The **kwargs parameter allows a function to accept a variable number of keyword arguments. It collects all the additional keyword arguments passed to the function into a dictionary.\n",
    "def person_details(**kwargs):\n",
    "    for key, value in kwargs.items():\n",
    "        print(key, \":\", value)\n",
    "person_details(name=\"Riya\", age=23, city=\"New Delhi\")"
   ]
  },
  {
   "cell_type": "markdown",
   "id": "f15d7e72-3e40-4e73-8bfe-252b962ba638",
   "metadata": {},
   "source": [
    "#A3. In Python, an iterator is an object that allows you to iterate over collections of data, such as lists, tuples, dictionaries, and sets. Python iterators implement the iterator design pattern, which allows you to traverse a container and access its elements. Iter() method is used to initialize the iterator object so that the instance of this object can be used for iteration\n",
    "and The next() function takes an iterator as an argument and returns the next item in the sequence.\n",
    "l1 = [2,4,6,8,10,12,14,16,18,20]\n",
    "iteration = iter(l1)\n",
    "for i in range(5):\n",
    "    print(next(iteration))"
   ]
  },
  {
   "cell_type": "markdown",
   "id": "b2b66cdb-ea80-4fd6-bc9a-495b38650320",
   "metadata": {},
   "source": [
    "#A4.Python provides a generator to create your own iterator function. A generator is a special type of function which does not return a single value, instead, it returns an iterator object with a sequence of values. In a generator function, a yield statement is used rather than a return statement.\n",
    "Eg. def count_test(n):\n",
    "    count = 1\n",
    "    while count <= n:\n",
    "        yield count\n",
    "        count = count + 1\n",
    "c = count_test(9)\n",
    "for i in c:\n",
    "    print(i)"
   ]
  },
  {
   "cell_type": "code",
   "execution_count": 13,
   "id": "5c1faeb8-e12c-460e-9d95-84f44ab87592",
   "metadata": {},
   "outputs": [
    {
     "name": "stdout",
     "output_type": "stream",
     "text": [
      "2\n",
      "3\n",
      "5\n",
      "7\n",
      "11\n",
      "13\n",
      "17\n",
      "19\n",
      "23\n",
      "29\n",
      "31\n",
      "37\n",
      "41\n",
      "43\n",
      "47\n",
      "53\n",
      "59\n",
      "61\n",
      "67\n",
      "71\n"
     ]
    }
   ],
   "source": [
    "#A5.\n",
    "def prime_num():\n",
    "    prime = []\n",
    "    num = 2\n",
    "    while True:\n",
    "        if all (num%number!=0 for number in prime):\n",
    "            prime.append(num)\n",
    "            yield num\n",
    "        num += 1\n",
    "prime_generator = prime_num()\n",
    "for i in range(20):\n",
    "    number = next(prime_generator)\n",
    "    print(number)      "
   ]
  },
  {
   "cell_type": "code",
   "execution_count": 14,
   "id": "495b9036-5ac6-41e0-8f83-d26c7894777a",
   "metadata": {},
   "outputs": [
    {
     "name": "stdout",
     "output_type": "stream",
     "text": [
      "0\n",
      "1\n",
      "1\n",
      "2\n",
      "3\n",
      "5\n",
      "8\n",
      "13\n",
      "21\n",
      "34\n"
     ]
    }
   ],
   "source": [
    "#A6.\n",
    "fib = []\n",
    "a=0\n",
    "b=1\n",
    "count=0\n",
    "while count < 10:\n",
    "    print(a)\n",
    "    updated_a = a+b\n",
    "    a = b\n",
    "    b = updated_a\n",
    "    count += 1"
   ]
  },
  {
   "cell_type": "code",
   "execution_count": 16,
   "id": "a2835f22-d1df-4827-86ba-aeb55e25309d",
   "metadata": {},
   "outputs": [
    {
     "name": "stdout",
     "output_type": "stream",
     "text": [
      "['p', 'w', 's', 'k', 'i', 'l', 'l', 's']\n"
     ]
    }
   ],
   "source": [
    "#A7.\n",
    "s1 = 'pwskills'\n",
    "output = [char for char in s1]\n",
    "print(output)"
   ]
  },
  {
   "cell_type": "code",
   "execution_count": 20,
   "id": "2e88dc7c-5030-43ba-9514-ef706a1f51ac",
   "metadata": {},
   "outputs": [
    {
     "name": "stdin",
     "output_type": "stream",
     "text": [
      "Enter the number:  100001\n"
     ]
    },
    {
     "name": "stdout",
     "output_type": "stream",
     "text": [
      "100001 is a palindrome.\n"
     ]
    }
   ],
   "source": [
    "#A8.\n",
    "number = int(input(\"Enter the number: \"))\n",
    "def palindrome(num):\n",
    "    input_num = num\n",
    "    output_num = 0\n",
    "    while num > 0:\n",
    "        digit = num %10\n",
    "        output_num = output_num *10 + digit\n",
    "        num = num // 10\n",
    "    if input_num == output_num:\n",
    "        return True\n",
    "    else:\n",
    "        return False\n",
    "    \n",
    "if palindrome(number):\n",
    "    print(number, \"is a palindrome.\")\n",
    "else :\n",
    "    print(number, \"is not a palindrome.\")\n",
    "    "
   ]
  },
  {
   "cell_type": "code",
   "execution_count": null,
   "id": "9059f39c-48dc-4931-afde-7ce49a2a4acd",
   "metadata": {},
   "outputs": [],
   "source": []
  }
 ],
 "metadata": {
  "kernelspec": {
   "display_name": "Python 3 (ipykernel)",
   "language": "python",
   "name": "python3"
  },
  "language_info": {
   "codemirror_mode": {
    "name": "ipython",
    "version": 3
   },
   "file_extension": ".py",
   "mimetype": "text/x-python",
   "name": "python",
   "nbconvert_exporter": "python",
   "pygments_lexer": "ipython3",
   "version": "3.10.8"
  }
 },
 "nbformat": 4,
 "nbformat_minor": 5
}
