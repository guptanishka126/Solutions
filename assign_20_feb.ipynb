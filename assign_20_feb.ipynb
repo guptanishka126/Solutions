{
 "cells": [
  {
   "cell_type": "markdown",
   "id": "e10eb70c-2d70-4a03-8a76-ef2837a3a1d2",
   "metadata": {},
   "source": [
    "A1. GET request is simple and used to fetch a resource on the server using the URL link. For example: \n",
    "https://brown-tailor-lcght.pwskills.app:5000\n",
    "A GET method only needs a URL to identify along with other REST API headers.\n",
    "POST method the single most important REST verb. Though it is used much lesser than a GET request. It is for this method the client is sending the request through body. From credit cards to payments, logins to forms all trust this method for sending requests to the server."
   ]
  },
  {
   "cell_type": "markdown",
   "id": "e7ddd4b7-963d-4042-8f8e-317682518a3a",
   "metadata": {},
   "source": [
    "A2. In the client-server architecture, the request object contains all the data that is sent from the client to the server. We can retrieve the data at the server side using the HTTP methods. The request object has some attributes namely methods(GET and POST), form, args, files, etc."
   ]
  },
  {
   "cell_type": "markdown",
   "id": "9421d9e6-02a4-4f37-91ea-63127f19494f",
   "metadata": {},
   "source": [
    "A3. As the name suggests the Flask class has a redirect() function. When called, it returns a response object and redirects the user to another target location with specified status code."
   ]
  },
  {
   "cell_type": "markdown",
   "id": "9e4ee65e-8001-4453-a29e-d891e702f022",
   "metadata": {},
   "source": [
    "A4. Templates are files that contain static data as well as placeholders for dynamic data. A template is rendered with specific data to produce a final document. Flask uses the Jinja template library to render templates.\n",
    "In your application, you will use templates to render HTML which will display in the user’s browser. \n",
    "render_template() is a Flask function from the flask.templating package. render_template() is used to generate output from a template file based on the Jinja2 engine that is found in the application's templates folder."
   ]
  },
  {
   "cell_type": "markdown",
   "id": "277d534b-8296-4ada-8e8e-1d18a7ccd3f5",
   "metadata": {},
   "source": [
    "A5. ![](file:///C:/Users/pragya%20gupta/Pictures/Screenshots/Screenshot%20(49).png)"
   ]
  },
  {
   "cell_type": "code",
   "execution_count": null,
   "id": "d6ae9988-6585-4962-b6a8-0bc4cd35dc84",
   "metadata": {},
   "outputs": [],
   "source": []
  }
 ],
 "metadata": {
  "kernelspec": {
   "display_name": "Python 3 (ipykernel)",
   "language": "python",
   "name": "python3"
  },
  "language_info": {
   "codemirror_mode": {
    "name": "ipython",
    "version": 3
   },
   "file_extension": ".py",
   "mimetype": "text/x-python",
   "name": "python",
   "nbconvert_exporter": "python",
   "pygments_lexer": "ipython3",
   "version": "3.10.8"
  }
 },
 "nbformat": 4,
 "nbformat_minor": 5
}
