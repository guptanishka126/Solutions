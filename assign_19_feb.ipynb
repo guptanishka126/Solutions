{
 "cells": [
  {
   "cell_type": "markdown",
   "id": "150f4d63-65b6-4c15-b323-fa729f413a76",
   "metadata": {},
   "source": [
    "A1. Flask is a micro web framework written in Python. It is classified as a microframework because it does not require particular tools or libraries. It has no database abstraction layer, form validation, or any other components where pre-existing third-party libraries provide common functions.\n",
    "Advantages of Flask framework are:\n",
    "1) It has higher flexibility.\n",
    "2) Flask has higher compatibility with latest technologies.\n",
    "3) It has high scalability for simple web applications.\n",
    "4) Flask provides technical experimentation.\n",
    "5) Flask provides us customization facility.\n",
    "6) This frameworks performance is slightly higher than any other framework.\n",
    "7) It is easier to use for simple cases."
   ]
  },
  {
   "cell_type": "markdown",
   "id": "3129fecf-fba2-4e50-873b-4ef87a1a3f8c",
   "metadata": {},
   "source": [
    "A2. ![](file:///C:/Users/pragya%20gupta/Pictures/Screenshots/Screenshot%20(45).png)"
   ]
  },
  {
   "cell_type": "markdown",
   "id": "b7afe08f-f883-4737-8a5d-28ab54c6d6e7",
   "metadata": {},
   "source": [
    "A3. App Routing means mapping the URLs to a specific function that will handle the logic for that URL.\n",
    "The Latest Web frameworks use the routing technique to help users remember application URLs. It is helpful to access the desired page directly without navigating from the home page."
   ]
  },
  {
   "cell_type": "markdown",
   "id": "ccae697e-e974-46c2-b65d-b658259c518d",
   "metadata": {},
   "source": [
    "A4. ![](file:///C:/Users/pragya%20gupta/Pictures/Screenshots/Screenshot%20(48).png)\n",
    "![](file:///C:/Users/pragya%20gupta/Pictures/Screenshots/Screenshot%20(47).png)"
   ]
  },
  {
   "cell_type": "markdown",
   "id": "fa05e15a-74a2-427a-a8b4-d93887e27c4f",
   "metadata": {},
   "source": [
    "A5. The url_for() function is used to build a URL to the specific function dynamically. The first argument is the name of the specified function, and then we can pass any number of keyword argument corresponding to the variable part of the URL.\n",
    "This function is useful in the sense that we can avoid hard-coding the URLs into the templates by dynamically building them using this function.\n",
    "Eg :\n",
    "1) from flask import Flask, redirect, url_for\n",
    "2) appFlask = Flask(__name__)\n",
    "3) @appFlask.route('/accountType/Type>')\n",
    "4) def accountType(Type):\n",
    "5)     return 'This is a %s account' % Type\n",
    "6) @appFlask.route('/user/name')\n",
    "7) def userType(name):\n",
    "8) if name =='premium':\n",
    "9)     return redirect(url_for('accountType',Type = name))\n",
    "10)  else:\n",
    "11)   return redirect(url_for('accountType',Type = name))\n",
    "12) if __name__ == '__main__':\n",
    "13)   appFlask.run(debug = True)"
   ]
  },
  {
   "cell_type": "code",
   "execution_count": null,
   "id": "b0ab8eee-a446-4958-b765-9537784e6284",
   "metadata": {},
   "outputs": [],
   "source": [
    "from flask import Flask, redirect, url_for\n",
    "appFlask = Flask(__name__)\n",
    "@appFlask.route('/accountType/<Type>')\n",
    "def accountType(Type):\n",
    " return 'This is a %s account' % Type\n",
    "@appFlask.route('/user/<name>')\n",
    "def userType(name):\n",
    "  if name =='premium':\n",
    "     return redirect(url_for('accountType',Type = name))\n",
    "  else:\n",
    "    return redirect(url_for('accountType',Type = name))\n",
    "if __name__ == '__main__':\n",
    "   appFlask.run(debug = True)"
   ]
  }
 ],
 "metadata": {
  "kernelspec": {
   "display_name": "Python 3 (ipykernel)",
   "language": "python",
   "name": "python3"
  },
  "language_info": {
   "codemirror_mode": {
    "name": "ipython",
    "version": 3
   },
   "file_extension": ".py",
   "mimetype": "text/x-python",
   "name": "python",
   "nbconvert_exporter": "python",
   "pygments_lexer": "ipython3",
   "version": "3.10.8"
  }
 },
 "nbformat": 4,
 "nbformat_minor": 5
}
