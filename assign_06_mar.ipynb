{
 "cells": [
  {
   "cell_type": "markdown",
   "id": "fa5389fa-3cd8-449e-abe7-0191f0f99b57",
   "metadata": {},
   "source": [
    "#Ans 1 .\n",
    "A visual and mathematical portrayal of information is statistics. Data science is all about making calculations with data. We make decisions based on that data using mathematical conditions known as models.\n",
    "Numerous fields, including data science, machine learning, business intelligence, computer science, and many others have become increasingly dependent on statistics."
   ]
  },
  {
   "cell_type": "markdown",
   "id": "48919f98-67a0-4758-bd85-68afccea7445",
   "metadata": {},
   "source": [
    "#Ans 2 .\n",
    "1) Descriptive statistics: Provides ways to summarize data by turning unprocessed observations into understandable data that is simple to share. Descriptive statistics consists of three basic categories of measures: measures of central tendency, measures of variability (or spread), and frequency distribution. For example, the sum of the following data set is 20: (2, 3, 4, 5, 6). The mean is 4 (20/5). The mode of a data set is the value appearing most often, and the median is the figure situated in the middle of the data set.\n",
    "2) Inferential Statistics: With the help of inferential statistics, it is possible to analyze experiments with small samples of data and draw conclusions about the entire population (entire domain). Inferential statistics are used to make generalizations about large groups, such as estimating average demand for a product by surveying a sample of consumers' buying habits or attempting to predict future events. This might mean projecting the future return of a security or asset class based on returns in a sample period. For example, Regression analysis is a widely used technique of statistical inference used to determine the strength and nature of the relationship (the correlation) between a dependent variable and one or more explanatory (independent) variables."
   ]
  },
  {
   "cell_type": "markdown",
   "id": "f98a506b-ac18-4150-9b87-2eb6456fd1a0",
   "metadata": {},
   "source": [
    "\n",
    "#Ans 3 .\n",
    "In statistics, data can be classified into four main types: nominal, ordinal, interval, and ratio. These types are based on the level of measurement and the characteristics of the data.\n",
    "\n",
    "---\n",
    "\n",
    "1) Nominal Data: Nominal data is categorical data that is used for labeling variables without any quantitative significance. It represents different categories or groups that are mutually exclusive. Examples include gender (male/female), color (red/blue/green), or marital status (single/married/divorced).\n",
    "2) Ordinal Data: Ordinal data is categorical or qualitative data that has an inherent order or ranking. The categories have a meaningful order, but the differences between the categories may not be equal or measurable. Examples include education levels (elementary/middle/high school), Likert scale responses (strongly disagree/disagree/neutral/agree/strongly agree), or rating scales (poor/fair/good/excellent).\n",
    "3) Interval Data: Interval data represents numerical data with a fixed and equal interval between the values. It does not have a true zero point and can have negative values. Arithmetic operations like addition and subtraction can be performed on interval data, but multiplication and division do not make sense. Examples include temperature measured in Celsius or Fahrenheit.\n",
    "4) Ratio Data: Ratio data is similar to interval data but has a true zero point. It has a fixed and equal interval between values, and all arithmetic operations can be performed on it. Examples include height, weight, time, or counts of objects."
   ]
  },
  {
   "cell_type": "markdown",
   "id": "2cc3be7c-e065-4a90-946e-300adac5ae4f",
   "metadata": {},
   "source": [
    "#Ans 4 .\n",
    "1) Grading in exam: A+, A, B+, B, C+, C, D, E - Qualitative data\n",
    "2) Colour of mangoes: yellow, green, orange, red - Qualitative data\n",
    "3) Height data of a class: [178.9, 179, 179.5, 176, 177.2, 178.3, 175.8,...] - Quantitative data\n",
    "4) Number of mangoes exported by a farm: [500, 600, 478, 672, ...] - Quantitative data\n"
   ]
  },
  {
   "cell_type": "markdown",
   "id": "daaab600-9520-4230-a92e-36486c7026ba",
   "metadata": {},
   "source": [
    "#Ans 5 .\n",
    "Levels of measurement, also known as scales of measurement or levels of data, refer to the different ways in which variables can be measured or classified. There are four commonly recognized levels of measurement: nominal, ordinal, interval, and ratio. Let's explore each level along with an example variable for each:\n",
    "\n",
    "1) Nominal Level: At the nominal level, variables are categorical and can be placed into distinct categories without any inherent order or numerical value. Nominal variables are used for identification or classification purposes. Examples include:\n",
    "(a)Eye color: Categories may include blue, green, brown, etc.\n",
    "(b)Blood type: Categories may include A, B, AB, O.\n",
    "2) Ordinal Level: Variables at the ordinal level have categories that can be ranked or ordered, but the differences between categories may not be equal or quantifiable. The order or rank is meaningful, but the magnitude of difference is not specified. Examples include:\n",
    "(a)Educational level: Categories may include elementary, middle school, high school, college.\n",
    "(b)Satisfaction rating: Categories may include very dissatisfied, dissatisfied, neutral, satisfied, very satisfied.\n",
    "3) Interval Level: Variables at the interval level possess categories with equal intervals between values. They can be measured on a numerical scale, but there is no true zero point. Arithmetic operations like addition and subtraction can be performed, but multiplication and division do not hold meaningful interpretations. Examples include:\n",
    "(a)Temperature in Celsius or Fahrenheit: A difference of 10 degrees has the same meaning throughout the scale, but 0 degrees does not indicate the absence of temperature.\n",
    "(b)Years on the Gregorian calendar: The difference between years 2023 and 2024 is the same as between 2001 and 2002, but 0 AD does not represent the absence of time.\n",
    "4) Ratio Level: Variables at the ratio level have categories with equal intervals between values and a true zero point. They can be measured on a numerical scale, and all arithmetic operations are valid and meaningful. Examples include:\n",
    "(a)Height: The difference between two heights is meaningful, and a height of 0 indicates the absence of height.\n",
    "(b)Weight: The difference between two weights is meaningful, and a weight of 0 indicates the absence of weight.\n"
   ]
  },
  {
   "cell_type": "markdown",
   "id": "37c0fad5-5896-4963-ad1d-3d1122021e50",
   "metadata": {},
   "source": [
    "#Ans 6 . It is important to understand the level of measurement of variables when analyzing data in research, because the level of measurement determines the type of statistical analysis that can be conducted, and, therefore, the type of conclusions that can be drawn from the research.\n",
    "Here, is an example of a scenario where we have data on the educational level of individuals and their monthly income. The educational level is an ordinal variable with categories such as high school, college, and graduate degree. The monthly income is a ratio variable measured in dollars. Now, suppose we want to compare the income levels across different educational levels.\n",
    "If we treat the educational level as a ratio variable and perform arithmetic operations like averaging or calculating the ratio of income across educational categories, it would lead to incorrect and misleading results. The ordinal nature of educational levels means that the differences between the categories are not necessarily equal or quantifiable, so performing mathematical operations does not provide meaningful insights."
   ]
  },
  {
   "cell_type": "markdown",
   "id": "cf2182d4-4a1e-4bf4-b862-f70b297a065a",
   "metadata": {},
   "source": [
    "#Ans7 . The main difference between nominal and ordinal data is that A nominal level of measurement uses symbols to classify observations into categories that must be both mutually exclusive and exhaustive.  Exhaustive means that there must be enough categories that all the observations will fall into some category.  Mutually exclusive means that the categories must be distinct enough that no observations will fall into more than one category and nominal data represents categories without any inherent order, while ordinal data represents categories with a meaningful order or ranking. Ordinal data provides additional information about the relative position or rank of categories compared to nominal data, which lacks such a ranking.\n",
    "Examples of nominal data include gender (male/female), color (red/blue/green), or marital status (single/married/divorced).\n",
    "Examples of ordinal data include educational levels (elementary/middle/high school), Likert scale responses (strongly disagree/disagree/neutral/agree/strongly agree), or rating scales (poor/fair/good/excellent)."
   ]
  },
  {
   "cell_type": "markdown",
   "id": "deb91542-0cbf-43a6-8899-765104d38f35",
   "metadata": {},
   "source": [
    "#Ans8 . A box plot, also known as a box-and-whisker plot, is commonly used to display data in terms of range.\n",
    "A box plot provides a visual representation of the distribution of a dataset, including key statistical measures such as the minimum value, maximum value, median (or the second quartile), and quartiles (the first and third quartiles). The \"whiskers\" extend from the box to represent the range of the data, typically up to a certain multiple of the interquartile range (IQR).\n",
    "A box plot is useful for comparing the range, spread, and central tendency of different groups or variables within a dataset. It provides a visual summary of the dataset's distribution and highlights any outliers. The vertical orientation of the plot makes it easy to compare ranges across different categories or groups."
   ]
  },
  {
   "cell_type": "markdown",
   "id": "de017a7e-3882-4752-9dfe-571a911df3c3",
   "metadata": {},
   "source": [
    "#Ans9 . \n",
    "1) Descriptive statistics involves taking a potentially sizeable number of data points in the sample data and reducing them to certain meaningful summary values and graphs. The process allows you to obtain insights and visualize the data rather than simply pouring through sets of raw numbers. With descriptive statistics, you can describe both an entire population and an individual sample. It evaluates the Mean, Median, Mode, Standard deviation, Range, Frequency tables. Example of Descriptive Statistics: Suppose you have a dataset containing the heights (in centimeters) of a group of individuals. Descriptive statistics would involve calculating and reporting measures such as the mean height, median height, standard deviation, and range. These statistics summarize the heights and provide information about the central tendency (mean and median) and the variability (standard deviation and range) of the dataset. Descriptive statistics help to describe the observed sample accurately.\n",
    "\n",
    "2) Inferential statistics involves drawing conclusions about populations by examining samples. It allows us to make inferences about the entire set, including specific examples within it, based on information obtained from a subset of examples. These inferences rely on the principles of evidence and utilize sample statistics as a basis for drawing broader conclusions. It estimates Hypothesis testing, confidence intervals, regression analysis, ANOVA (analysis of variance), chi-square tests, t-tests, etc. Example of Inferential Statistics: Suppose you want to determine if there is a significant difference in the mean heights of two populations: males and females. Inferential statistics would involve collecting a random sample of heights from both populations, conducting a hypothesis test (such as a t-test), and using the sample data to make inferences about the population means. Based on the results of the test, you can infer whether there is a statistically significant difference between the average heights of males and females in the population."
   ]
  },
  {
   "cell_type": "markdown",
   "id": "7eac3866-06fc-4f42-929f-dd52b425ade7",
   "metadata": {},
   "source": [
    "#Ans10 . Measures of Central Tendency: Measures of central tendency describe the central or typical value around which the data points in a dataset tend to cluster. The three common measures of central tendency are the mean, median, and mode.\n",
    "1) Mean: The mean is the arithmetic average of a dataset. It is calculated by summing all the values and dividing by the total number of data points. The mean is sensitive to extreme values and provides a measure of the \"typical\" value in the dataset.\n",
    "2) Median: The median is the middle value of a dataset when the data points are arranged in ascending or descending order. If the dataset has an odd number of values, the median is the middle value. If the dataset has an even number of values, the median is the average of the two middle values. The median is less sensitive to extreme values and provides a measure of the \"middle\" value in the dataset.\n",
    "3) Mode: The mode is the value or values that appear most frequently in a dataset. It represents the most common or repetitive value(s) in the dataset. Unlike the mean and median, the mode can be applied to both numerical and categorical data.\n",
    "\n",
    "Measures of Variability: Measures of variability quantify the spread, dispersion, or variability of data points within a dataset. They provide information about how much the values deviate from the central tendency measures. The common measures of variability include the range, variance, and standard deviation.\n",
    "1) Range: The range is the difference between the maximum and minimum values in a dataset. It provides a simple measure of the spread or dispersion of the dataset. However, the range is sensitive to extreme values and does not consider the distribution of the data.\n",
    "\n",
    "Variance: The variance measures the average squared deviation of each data point from the mean. It provides a more precise measure of variability by considering the differences between each data point and the mean. A higher variance indicates greater variability in the dataset.\n",
    "\n",
    "Standard Deviation: The standard deviation is the square root of the variance. It measures the average amount by which each data point deviates from the mean. The standard deviation is commonly used as it has the same unit as the original data and provides a more easily interpretable measure of variability."
   ]
  }
 ],
 "metadata": {
  "kernelspec": {
   "display_name": "Python 3 (ipykernel)",
   "language": "python",
   "name": "python3"
  },
  "language_info": {
   "codemirror_mode": {
    "name": "ipython",
    "version": 3
   },
   "file_extension": ".py",
   "mimetype": "text/x-python",
   "name": "python",
   "nbconvert_exporter": "python",
   "pygments_lexer": "ipython3",
   "version": "3.10.8"
  }
 },
 "nbformat": 4,
 "nbformat_minor": 5
}
