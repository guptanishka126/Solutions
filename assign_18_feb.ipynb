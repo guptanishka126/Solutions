{
 "cells": [
  {
   "cell_type": "markdown",
   "id": "025b1f9d-e22c-4fb1-bc79-07ee000ad41b",
   "metadata": {},
   "source": [
    "#Ans1 . \n",
    "API is the acronym for application programming interface — a software intermediary that allows two applications to talk to each other. APIs are an accessible way to extract and share data within and across organizations.\n",
    "APIs are all around us. Every time you use a rideshare app, send a mobile payment, or change the thermostat temperature from your phone, you’re using an API.\n",
    "The term “API” has been generically used to describe connectivity interfaces to an application. However, over the years, the modern API has taken on some unique characteristics that have truly transformed the technology space. First, modern APIs adhere to specific standards (typically HTTP and REST), which enable APIs to be developer-friendly, self-described, easily accessible, and understood broadly.\n",
    "APIs are used in web applications to connect user-facing front ends with critical back-end functionality and data.\n",
    "APIs are used to deliver material by streaming services such as Spotify and Netflix.\n",
    "For example , Pay with PayPal \n",
    "Have you ever used PayPal to purchase directly from an eCommerce store? That, too, is an API at work. The \"Pay with PayPal\" functionality, like checking in with a social networking site, is done via APIs to ensure that the end application can only do what it needs to accomplish without being exposed to sensitive data or gaining access to unwelcome privileges.\n",
    "The inner workings of this useful feature are fairly similar to the login procedure discussed above. When a user selects the \"Pay with PayPal\" button, the application makes an \"order\" request to the PayPal API, containing the amount owing and other critical information. The user is then authenticated, and their purchase is confirmed through a pop-up. Finally, the API returns payment confirmation to the application if everything goes as planned."
   ]
  },
  {
   "cell_type": "markdown",
   "id": "2acef180-fa04-42ba-8a75-89b10cd5c8f2",
   "metadata": {},
   "source": [
    "#Ans2 . \n",
    "Advantages of APIs are :\n",
    "1) Increased Visibility and Traffic - First, it allows you to share your data and functionality with a broader audience, increasing traffic and visibility for your website or app.\n",
    "2) Seamless Integration - It makes it easy to integrate with other applications and services, saving you time and money.\n",
    "3) Increased Efficiency - It allows you to access data and functionality without navigating multiple menus or screens. This can speed up the development process and make your app or website more user-friendly.\n",
    "4) Easier Maintenance - It reduces the amount of work needed on the back-end, making maintenance and updates more effortless and less time-consuming.\n",
    "5) Reduced Costs - It allows developers to reuse code and functionality in multiple applications, saving time and money.\n",
    "6) Improved Customer Experience - It makes it easier for users to access your data and functionality across multiple devices or platforms, improving the user experience and increasing customer satisfaction.\n",
    "Disadvantages of APIs are :\n",
    "1) Increased Complexity - First, they can be complex and challenging to use, making them challenging for novice developers.\n",
    "2) Limited Functionality - They may not have all the functionality you need, requiring additional development work.\n",
    "3) Dependency on Third Party Services - If it depends on a third-party service, your application will also be unavailable.\n",
    "4) Security and Privacy Risks - They can pose security and privacy risks if they’re not implemented correctly. Therefore, it’s essential to carefully consider these risks before using them in your application."
   ]
  },
  {
   "cell_type": "markdown",
   "id": "cca29bd1-c856-44ae-954d-b2ed32722a57",
   "metadata": {},
   "source": [
    "#Ans3 . \n",
    "Web API as the name suggests, is an API over the web which can be accessed using HTTP protocol. It is a concept and not a technology. We can build Web API using different technologies such as Java, .NET etc. \n",
    "For example, Twitter's REST APIs provide programmatic access to read and write data using which we can integrate twitter's capabilities into our own application.\n",
    "A web API is an application programming interface (API) for either a web server or a web browser. As a web development concept, it can be related to a web application's client side (including any web frameworks being used). A server-side web API consists of one or more publicly exposed endpoints to a defined request–response message system, typically expressed in JSON or XML by means of an HTTP-based web server. A server API (SAPI) is not considered a server-side web API, unless it is publicly accessible by a remote web application.\n",
    "API (Application Programming Interface):\n",
    "1) An API is a set of rules and protocols that allows different software applications to communicate and interact with each other.\n",
    "2) It defines how various components of software should interact, abstracting the complexity and providing a simpler interface for developers.\n",
    "3) APIs can be used to access services and functionalities of an application, operating system, or third-party service.\n",
    "4) APIs can be implemented using various protocols and formats, such as REST, SOAP, JSON, XML, etc.\n",
    "5) APIs are not limited to web applications and can be used in desktop applications, mobile apps, and other software systems.\n",
    "Web API (Web Application Programming Interface):\n",
    "1) A Web API is a specific type of API that is designed to be used over the web using HTTP(S) protocols.\n",
    "2) It enables communication between different web services and clients, allowing them to exchange data and perform actions remotely.\n",
    "3) Web APIs are typically used to provide access to web services and server-side functionalities for web applications.\n",
    "4) Web APIs often follow the REST (Representational State Transfer) architecture, using standard HTTP methods like GET, POST, PUT, DELETE to interact with resources.\n",
    "5) Web APIs are commonly used for client-server communication in web-based applications, mobile apps, and other internet-connected services."
   ]
  },
  {
   "cell_type": "markdown",
   "id": "aebabe21-dc18-49f7-a8be-428aaacbd0dc",
   "metadata": {},
   "source": [
    "#Ans4 . \n",
    "1) REST (Representational State Transfer) Architecture : REST is an architectural style that was introduced by Roy Fielding in his Ph.D. dissertation in 2000. It is widely used for designing networked applications, especially web services. It relies on a stateless client-server communication model, where each request from the client to the server must contain all the information needed to understand and process that request. RESTful APIs use standard HTTP methods (GET, POST, PUT, DELETE) to perform operations on resources identified by URLs (Uniform Resource Locators). Resources in a RESTful API are typically represented in formats like JSON or XML.\n",
    "2) SOAP (Simple Object Access Protocol) Architecture : SOAP is a protocol and messaging format defined by the World Wide Web Consortium (W3C) for exchanging structured information in the implementation of web services. Unlike REST, SOAP is more complex and relies on XML for its message format. SOAP messages are sent over various transport protocols, including HTTP, SMTP, TCP, and more. SOAP-based services use a predefined contract (WSDL - Web Services Description Language) that describes the service's endpoints, data types, and operations.\n",
    "3) Shortcomings of SOAP Complexity: SOAP messages use XML for data representation, which can be complex and verbose. The XML format tends to make requests and responses larger, increasing the overhead for data transmission and parsing.\n",
    "\n",
    "Performance: Due to its XML-based nature and additional processing required for parsing and serialization, SOAP can be slower and less efficient compared to other lightweight data formats like JSON used in REST APIs.\n",
    "\n",
    "Overhead: SOAP messages typically include additional metadata, such as namespaces and envelope elements, which add overhead to the payload. This can be a concern when dealing with limited bandwidth or low-latency requirements.\n",
    "\n",
    "Lack of Human Readability: The XML format used in SOAP messages is not easily readable by humans, making it challenging to debug and troubleshoot API interactions.\n",
    "\n",
    "Lack of Browser Support: SOAP-based APIs are not natively supported by web browsers, which limits their use in browser-based applications. In contrast, RESTful APIs can be accessed directly through standard HTTP methods using browser URLs."
   ]
  },
  {
   "cell_type": "markdown",
   "id": "6aebba57-b4ea-4015-9c13-640884b87426",
   "metadata": {},
   "source": [
    "#Ans5 . \n",
    "Difference between the REST and SOAP APIs: \n",
    "1) Message Format: REST - RESTful APIs typically use lightweight and easy-to-parse formats like JSON or XML for representing data in the request and response payloads. SOAP - SOAP messages are always in XML format, which can be more complex and verbose compared to JSON.\n",
    "2) Flexibility: REST - REST is more flexible and allows developers to design APIs based on the application's needs. It can work with various data formats and transport protocols. SOAP - SOAP is more rigid and has a predefined contract, making it less flexible in terms of data formats and transport protocols.\n",
    "3) Standards and Specifications: REST - REST is an architectural style, not a specific protocol, and does not have strict standards for communication or message format. It uses standard HTTP methods and status codes for operations and responses. SOAP - SOAP is a protocol defined by the World Wide Web Consortium (W3C) and has strict standards for message format and communication. It requires a formal contract (WSDL - Web Services Description Language) that describes the service's endpoints, data types, and operations.\n",
    "4) Security and Error Handling: REST - REST does not have built-in security features and relies on the underlying transport layer security (e.g., HTTPS) for securing communications. Error handling can vary based on the specific implementation. SOAP - SOAP has built-in error handling through standardized fault elements. It also supports WS-Security for message encryption and digital signatures, making it suitable for applications requiring a high level of security.\n",
    "5) Use Cases: REST - RESTful APIs are well-suited for web applications, mobile apps, and public APIs due to their simplicity, scalability, and ease of caching. SOAP - SOAP is commonly used in enterprise-level applications and scenarios where a high level of security, reliability, and formality in communication are required."
   ]
  }
 ],
 "metadata": {
  "kernelspec": {
   "display_name": "Python 3 (ipykernel)",
   "language": "python",
   "name": "python3"
  },
  "language_info": {
   "codemirror_mode": {
    "name": "ipython",
    "version": 3
   },
   "file_extension": ".py",
   "mimetype": "text/x-python",
   "name": "python",
   "nbconvert_exporter": "python",
   "pygments_lexer": "ipython3",
   "version": "3.10.8"
  }
 },
 "nbformat": 4,
 "nbformat_minor": 5
}
