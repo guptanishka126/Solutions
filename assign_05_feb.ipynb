{
 "cells": [
  {
   "cell_type": "markdown",
   "id": "0b418896-3b62-4ec5-917e-7162faad8564",
   "metadata": {},
   "source": [
    "A1. A class is a collection of objects. A class contains the blueprints or the prototype from which the objects are being created. It is a logical entity that contains some attributes and methods. \n",
    "The object is an entity that has a state and behavior associated with it. It may be any real-world object like a mouse, keyboard, chair, table, pen, etc. Integers, strings, floating-point numbers, even arrays, and dictionaries, are all objects.\n",
    "Example of a class:\n",
    "class pwskills1:\n",
    "def __init__(self,phone_no,email_id,stu_id):\n",
    "    self.phone_no = phone_no\n",
    "    self.email_id = email_id\n",
    "    self.stu_id = stu_id\n",
    "def return_stu_details(self):\n",
    "    return self.stu_id,self.phone_no,self.email_id\n",
    "Example of an object:\n",
    "rohan = pwskills1(9235667788,\"tagndio@gmail.com\",101)\n",
    "rohan.return_stu_details()\n",
    "gaurav = pwskills1(16535378211,\"jdsfhku@gamil.com\",102)\n",
    "gaurav.return_stu_details()"
   ]
  },
  {
   "cell_type": "markdown",
   "id": "ce384844-64bf-43d4-acd4-bf7bfdf2fd94",
   "metadata": {},
   "source": [
    "A2. The four pillars of Object Oriented Programming are:\n",
    "1) Abstraction\n",
    "2) Encapsulation\n",
    "3) Inheritance\n",
    "4) Polymorphism"
   ]
  },
  {
   "cell_type": "markdown",
   "id": "d9d9471c-2f96-44c1-80e7-014043a581c1",
   "metadata": {},
   "source": [
    "A3. In object-oriented programming, the __init__() function (also known as the constructor) is a special method that is automatically called when an object is created from a class. It is used to initialize the attributes (state) of an object with the values provided during its instantiation.\n",
    "The __init__() method allows you to set the initial state of an object by assigning values to its attributes. It provides a convenient way to ensure that the necessary attributes are initialized properly when an object is created.\n",
    "Example:\n",
    "class Person:\n",
    "    def __init__(self, name, age):\n",
    "        self.name = name\n",
    "        self.age = age\n",
    "    def introduce(self):\n",
    "        print(f\"My name is {self.name} and I am {self.age} years old.\")\n",
    "person1 = Person(\"John\", 25)\n",
    "person1.introduce()"
   ]
  },
  {
   "cell_type": "markdown",
   "id": "b0c0d831-06f8-47f3-87b5-c1e81c2f64aa",
   "metadata": {},
   "source": [
    "A4. In object-oriented programming (OOP), self is a convention used to refer to the instance of a class within the class itself. It is a reference to the current object being manipulated or accessed.\n",
    "When defining methods within a class, self is the first parameter that is automatically passed to the method. It allows the method to access and manipulate the attributes and methods of the object on which the method is called."
   ]
  },
  {
   "cell_type": "markdown",
   "id": "03f7d7ac-a1b2-4f90-ad05-de0cd9ad2187",
   "metadata": {},
   "source": [
    "A5.  Inheritance is a mechanism in which one class acquires the property of another class. For example, a child inherits the traits of his/her parents. With inheritance, we can reuse the fields and methods of the existing class.\n",
    "Types of inheritance :\n",
    "1) Single Inheritance : Single inheritance enables a derived class to inherit properties from a single parent class, thus enabling code reusability and the addition of new features to existing code. \n",
    "Eg. \n",
    "class Parent:\n",
    "    def func1(self):\n",
    "        print(\"This function is in parent class.\")\n",
    "class Child(Parent):\n",
    "    def func2(self):\n",
    "        print(\"This function is in child class.\")\n",
    "object = Child()\n",
    "object.func1()\n",
    "object.func2()\n",
    "2) Multiple Inheritance : When a class can be derived from more than one base class this type of inheritance is called multiple inheritances. In multiple inheritances, all the features of the base classes are inherited into the derived class. \n",
    "Eg.\n",
    "class Mother:\n",
    "    mothername = \"\"\n",
    "    def mother(self):\n",
    "        print(self.mothername)\n",
    "class Father:\n",
    "    fathername = \"\"\n",
    "    def father(self):\n",
    "        print(self.fathername)\n",
    "class Son(Mother, Father):\n",
    "    def parents(self):\n",
    "        print(\"Father :\", self.fathername)\n",
    "        print(\"Mother :\", self.mothername)\n",
    "s1 = Son()\n",
    "s1.fathername = \"RAM\"\n",
    "s1.mothername = \"SITA\"\n",
    "s1.parents()\n",
    "3) Multilevel Inheritance : In multilevel inheritance, features of the base class and the derived class are further inherited into the new derived class. This is similar to a relationship representing a child and a grandfather. \n",
    "Eg.\n",
    "class Grandfather:\n",
    "    def __init__(self, grandfathername):\n",
    "        self.grandfathername = grandfathername \n",
    "class Father(Grandfather):\n",
    "    def __init__(self, fathername, grandfathername):\n",
    "        self.fathername = fathername\n",
    "        Grandfather.__init__(self, grandfathername)\n",
    "class Son(Father):\n",
    "    def __init__(self, sonname, fathername, grandfathername):\n",
    "        self.sonname = sonname\n",
    "        Father.__init__(self, fathername, grandfathername)\n",
    "    def print_name(self):\n",
    "        print('Grandfather name :', self.grandfathername)\n",
    "        print(\"Father name :\", self.fathername)\n",
    "        print(\"Son name :\", self.sonname)\n",
    "s1 = Son('Prince', 'Rampal', 'Lal mani')\n",
    "print(s1.grandfathername)\n",
    "s1.print_name()\n",
    "4) Hierarchical Inheritance : When more than one derived class are created from a single base this type of inheritance is called hierarchical inheritance. In this program, we have a parent (base) class and two child (derived) classes.\n",
    "Eg. \n",
    "class Parent:\n",
    "    def func1(self):\n",
    "        print(\"This function is in parent class.\")\n",
    "class Child1(Parent):\n",
    "    def func2(self):\n",
    "        print(\"This function is in child 1.\")\n",
    "class Child2(Parent):\n",
    "    def func3(self):\n",
    "        print(\"This function is in child 2.\")\n",
    "object1 = Child1()\n",
    "object2 = Child2()\n",
    "object1.func1()\n",
    "object1.func2()\n",
    "object2.func1()\n",
    "object2.func3()\n",
    "5) Hybrid Inheritance : Inheritance consisting of multiple types of inheritance is called hybrid inheritance.\n",
    "Eg. \n"
   ]
  },
  {
   "cell_type": "code",
   "execution_count": null,
   "id": "6a538fb8-83b9-45ad-a686-6c706aa37d42",
   "metadata": {},
   "outputs": [],
   "source": []
  }
 ],
 "metadata": {
  "kernelspec": {
   "display_name": "Python 3 (ipykernel)",
   "language": "python",
   "name": "python3"
  },
  "language_info": {
   "codemirror_mode": {
    "name": "ipython",
    "version": 3
   },
   "file_extension": ".py",
   "mimetype": "text/x-python",
   "name": "python",
   "nbconvert_exporter": "python",
   "pygments_lexer": "ipython3",
   "version": "3.10.8"
  }
 },
 "nbformat": 4,
 "nbformat_minor": 5
}
