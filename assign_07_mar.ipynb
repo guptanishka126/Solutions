{
 "cells": [
  {
   "cell_type": "markdown",
   "id": "cb58f985-206e-46bd-8e96-32ab4b3db783",
   "metadata": {},
   "source": [
    "#Ans1 . \n",
    "The three main measures of central tendency :\n",
    "Mean , Meadian and Mode."
   ]
  },
  {
   "cell_type": "markdown",
   "id": "90f3f100-bd7d-4124-ab50-2e09c6964a2e",
   "metadata": {},
   "source": [
    "#Ans2 . \n",
    "The difference between mean, median and mode are:\n",
    "1) Mean is the average value of the given observations.\n",
    "2) Median is the middle value of the given observations.\n",
    "3) Mode is the most repeated value in the given observation.\n",
    "They're used to measure the central tendency of a dataset in such a way that:\n",
    "4) The mean is the average where the sum of all the numbers is divided by the total number of numbers, whereas the median is the middle value in the list of given numbers numerically ordered from smallest to biggest and mode is the value of the number which occurs most often in the list."
   ]
  },
  {
   "cell_type": "code",
   "execution_count": 12,
   "id": "f02ac05b-c19a-4f23-ba7b-14ca1d8c634c",
   "metadata": {},
   "outputs": [
    {
     "name": "stderr",
     "output_type": "stream",
     "text": [
      "/tmp/ipykernel_1360/3487434461.py:5: FutureWarning: Unlike other reduction functions (e.g. `skew`, `kurtosis`), the default behavior of `mode` typically preserves the axis it acts along. In SciPy 1.11.0, this behavior will change: the default value of `keepdims` will become False, the `axis` over which the statistic is taken will be eliminated, and the value None will no longer be accepted. Set `keepdims` to True or False to avoid this warning.\n",
      "  np.mean(height), np.median(height), stats.mode(height)\n"
     ]
    },
    {
     "data": {
      "text/plain": [
       "(177.01875, 177.0, ModeResult(mode=array([177.]), count=array([3])))"
      ]
     },
     "execution_count": 12,
     "metadata": {},
     "output_type": "execute_result"
    }
   ],
   "source": [
    "#Ans3 . \n",
    "import numpy as np\n",
    "from scipy import stats\n",
    "height = [178,177,176,177,178.2,178,175,179,180,175,178.9,176.2,177,172.5,178,176.5]\n",
    "np.mean(height), np.median(height), stats.mode(height)"
   ]
  },
  {
   "cell_type": "code",
   "execution_count": 11,
   "id": "3f9b39da-badb-40f1-a4a0-dfacc7f5d533",
   "metadata": {},
   "outputs": [
    {
     "data": {
      "text/plain": [
       "1.7885814036548633"
      ]
     },
     "execution_count": 11,
     "metadata": {},
     "output_type": "execute_result"
    }
   ],
   "source": [
    "#Ans4 . \n",
    "import numpy as np\n",
    "data = [178,177,176,177,178.2,178,175,179,180,175,178.9,176.2,177,172.5,178,176.5]\n",
    "np.std(data)"
   ]
  },
  {
   "cell_type": "markdown",
   "id": "41f7531e-5b50-47e0-b925-a9bf62f9963b",
   "metadata": {},
   "source": [
    "#Ans5 . \n",
    "Measures of dispersion, such as range, variance, and standard deviation, are used to describe the spread or variability of a dataset. They provide information about how much the data points deviate from the central tendency (mean, median, or mode) and how spread out the values are from one another. \n",
    "1) Range: The range is the simplest measure of dispersion and represents the difference between the maximum and minimum values in the dataset. It gives an idea of the spread of the data over the entire range.\n",
    "2) Variance: The variance measures the average squared deviation from the mean of the dataset. It quantifies how much the data points differ from the mean and gives an indication of the overall variability.\n",
    "3) Standard Deviation: The standard deviation is the square root of the variance and is often used instead of variance to describe the spread of a dataset. It represents the average deviation of data points from the mean.\n",
    "Example : \n",
    "Consider the following dataset of exam scores: [75, 82, 90, 68, 95, 85, 78]\n",
    "The range is calculated as follows:\n",
    "Range = Maximum value - Minimum value\n",
    "Range = 95 - 68 = 27\n",
    "So, the range of the exam scores is 27, indicating that the spread of scores is 27 points from the lowest to the highest.\n",
    "\n",
    "\n",
    "To calculate the variance using the same exam score dataset is as follows:\n",
    "Step 1: Calculate the mean (average):\n",
    "Mean = (75 + 82 + 90 + 68 + 95 + 85 + 78) / 7 = 80.43 (rounded to two decimal places)\n",
    "\n",
    "Step 2: Calculate the squared deviation for each data point from the mean:\n",
    "(75 - 80.43)^2 ≈ 29.20\n",
    "(82 - 80.43)^2 ≈ 2.19\n",
    "(90 - 80.43)^2 ≈ 91.31\n",
    "(68 - 80.43)^2 ≈ 153.20\n",
    "(95 - 80.43)^2 ≈ 213.08\n",
    "(85 - 80.43)^2 ≈ 20.61\n",
    "(78 - 80.43)^2 ≈ 6.20\n",
    "\n",
    "Step 3: Calculate the sum of squared deviations:\n",
    "Sum of squared deviations = 29.20 + 2.19 + 91.31 + 153.20 + 213.08 + 20.61 + 6.20 ≈ 515.79\n",
    "\n",
    "Step 4: Calculate the variance:\n",
    "Variance = Sum of squared deviations / (Number of data points - 1)\n",
    "Variance = 515.79 / (7 - 1) ≈ 85.97 (rounded to two decimal places)\n",
    "So, the variance of the exam scores is approximately 85.97, indicating the average squared deviation from the mean.\n",
    "\n",
    "\n",
    "Using the same exam scores dataset, let's calculate the standard deviation:\n",
    "Standard Deviation = √Variance\n",
    "Standard Deviation ≈ √85.97 ≈ 9.27 (rounded to two decimal places)\n",
    "So, the standard deviation of the exam scores is approximately 9.27, indicating the average deviation of scores from the mean."
   ]
  },
  {
   "cell_type": "markdown",
   "id": "eee8c502-4fe0-4e22-97bb-c9b1c6430ae6",
   "metadata": {},
   "source": [
    "#Ans6 . \n",
    "A Venn diagram uses overlapping circles or other shapes to illustrate the logical relationships between two or more sets of items. Often, they serve to graphically organize things, highlighting how the items are similar and different. \n",
    "Venn diagrams, also called Set diagrams or Logic diagrams, are widely used in mathematics, statistics, logic, teaching, linguistics, computer science and business. Many people first encounter them in school as they study math or logic, since Venn diagrams became part of “new math” curricula in the 1960s. These may be simple diagrams involving two or three sets of a few elements, or they may become quite sophisticated, including 3D presentations, as they progress to six or seven sets and beyond. They are used to think through and depict how items relate to each within a particular “universe” or segment. Venn diagrams allow users to visualize data in clear, powerful ways, and therefore are commonly used in presentations and reports. They are closely related to Euler diagrams, which differ by omitting sets if no items exist in them. Venn diagrams show relationships even if a set is empty."
   ]
  },
  {
   "cell_type": "code",
   "execution_count": 13,
   "id": "ce5bd1a7-625c-4bbb-ab1d-917a35f66c3f",
   "metadata": {},
   "outputs": [
    {
     "name": "stdout",
     "output_type": "stream",
     "text": [
      "Result of A intersection B :  [2 6]\n",
      "Result of A union B :  [ 0  2  3  4  5  6  7  8 10]\n"
     ]
    }
   ],
   "source": [
    "#Ans7 . \n",
    "A = (2,3,4,5,6,7) \n",
    "B = (0,2,6,8,10)\n",
    "print(\"Result of A intersection B : \", np.intersect1d(A,B))\n",
    "print(\"Result of A union B : \", np.union1d(A,B))"
   ]
  },
  {
   "cell_type": "markdown",
   "id": "2430d9d3-a245-42e4-a991-5e3ed2fdaee4",
   "metadata": {},
   "source": [
    "#Ans8 . \n",
    "Skewness is a statistical measure that quantifies the asymmetry or lack of symmetry in the distribution of a dataset. It helps us understand the shape of the data distribution and whether it is skewed to the left (negatively skewed) or to the right (positively skewed).\n",
    "In a symmetrical distribution, the data points are evenly distributed around the mean, and the left and right tails of the distribution are approximately equal in length. In such cases, the skewness is close to zero.\n",
    "However, when a dataset is skewed, the mean, median, and mode of the data tend to be different, and the distribution is not balanced. The tail on the side with more extreme values is longer than the other tail. There are two types of skewness: Positive Skewness (Right-skewed) and Negative Skewness (Left-skewed)."
   ]
  },
  {
   "cell_type": "markdown",
   "id": "439c7958-8599-4e73-a94f-60a09266afbd",
   "metadata": {},
   "source": [
    "#Ans9 . \n",
    "If a dataset is right-skewed, the position of the median with respect to the mean will be to the left of the mean.\n",
    "In a right-skewed distribution, the tail on the right-hand side (higher values) is longer, and most of the data points are concentrated on the left-hand side (lower values). The presence of extreme values on the right side of the distribution pulls the mean in that direction, making it larger than the median.\n",
    "Since the median is the value that separates the lower and upper halves of the dataset, it is less influenced by extreme values compared to the mean. As a result, the median tends to be closer to the center of the dataset and to the left of the mean in a right-skewed distribution."
   ]
  },
  {
   "cell_type": "markdown",
   "id": "8084df76-ecd9-44aa-a924-054d924f4c02",
   "metadata": {},
   "source": [
    "#Ans10 . \n",
    "In statistics, covariance and correlation are two mathematical notions. Both phrases are used to describe the relationship between two variables. \n",
    "Covariance is a measure of how two variables change together. The terms covariance vs correlation is very similar to each other in probability theory and statistics. Both the terms describe the extent to which a random variable or a set of random variables can deviate from the expected value. \n",
    "It is calculated as the covariance of the two variables divided by the product of their standard deviations. Covariance can be positive, negative, or zero. A positive covariance means that the two variables tend to increase or decrease together. A negative covariance means that the two variables tend to move in opposite directions.\n",
    "\n",
    "Correlation analysis is a method of statistical evaluation used to study the strength of a relationship between two, numerically measured, continuous variables.\n",
    "It not only shows the kind of relation (in terms of direction) but also how strong the relationship is. Thus, we can say the correlation values have standardized notions, whereas the covariance values are not standardized and cannot be used to compare how strong or weak the relationship is because the magnitude has no direct significance. It can assume values from -1 to +1. "
   ]
  },
  {
   "cell_type": "markdown",
   "id": "e69c7e4e-54dc-49a4-bf56-24a09f85bafa",
   "metadata": {},
   "source": [
    "#Ans11 . \n",
    "The formula for calculating the sample mean in statistics is:\n",
    "Sample Mean = (Sum of all data points) / (Number of data points)"
   ]
  },
  {
   "cell_type": "code",
   "execution_count": 17,
   "id": "7b98df9c-60bd-428b-b603-6af6cfdd6a88",
   "metadata": {},
   "outputs": [
    {
     "data": {
      "text/plain": [
       "5.843333333333334"
      ]
     },
     "execution_count": 17,
     "metadata": {},
     "output_type": "execute_result"
    }
   ],
   "source": [
    "#Example of Ans 11 . \n",
    "import seaborn as sns\n",
    "import numpy as np\n",
    "data = sns.load_dataset(\"iris\")\n",
    "np.mean(data.sepal_length)"
   ]
  },
  {
   "cell_type": "markdown",
   "id": "d283214b-3de7-4c50-b9f1-c7aa6659996a",
   "metadata": {},
   "source": [
    "#Ans12 . \n",
    "For a normal distribution, the three measures of central tendency, namely the mean, median, and mode, are equal to each other. In a perfectly symmetrical and bell-shaped normal distribution, the mean, median, and mode all occupy the same central position.\n",
    "The relationship between the measures of central tendency (mean, median, and mode) in a normal distribution is that they are all equal when the distribution is perfectly symmetrical."
   ]
  },
  {
   "cell_type": "markdown",
   "id": "6076970f-df4d-4ae9-abfe-ddc13dc4a8f9",
   "metadata": {},
   "source": [
    "#Ans13 . \n",
    "Covariance reveals how two variables change together while correlation determines how closely two variables are related to each other.\n",
    "1) Both covariance and correlation measure the relationship and the dependency between two variables.\n",
    "2) Covariance indicates the direction of the linear relationship between variables.\n",
    "3) Correlation measures both the strength and direction of the linear relationship between two variables.\n",
    "4) Correlation values are standardized.\n",
    "5) Covariance values are not standardized."
   ]
  },
  {
   "cell_type": "markdown",
   "id": "913ca2f4-e8cc-4de5-bbc5-4ee677cdae82",
   "metadata": {},
   "source": [
    "#Ans14 . \n",
    "Outliers can have a significant impact on measures of central tendency and dispersion in a dataset. An outlier is an observation that lies far away from the other data points, either much larger or much smaller than the majority of the values. Outliers can distort the overall characteristics of the data and affect the interpretation of statistics.\n",
    "#Example of Ans14 . \n",
    "Consider the following dataset representing the salaries (in thousands) of employees in a company:[30, 35, 40, 42, 45, 48, 50, 55, 60, 200]\n",
    "1) Calculating the mean of the above data:\n",
    "Mean = (30 + 35 + 40 + 42 + 45 + 48 + 50 + 55 + 60 + 200) / 10\n",
    "Mean ≈ 52.5\n",
    "The outlier \"200\" significantly increases the mean, making it much larger than the typical salary of the employees. The mean is heavily influenced by outliers."
   ]
  }
 ],
 "metadata": {
  "kernelspec": {
   "display_name": "Python 3 (ipykernel)",
   "language": "python",
   "name": "python3"
  },
  "language_info": {
   "codemirror_mode": {
    "name": "ipython",
    "version": 3
   },
   "file_extension": ".py",
   "mimetype": "text/x-python",
   "name": "python",
   "nbconvert_exporter": "python",
   "pygments_lexer": "ipython3",
   "version": "3.10.8"
  }
 },
 "nbformat": 4,
 "nbformat_minor": 5
}
