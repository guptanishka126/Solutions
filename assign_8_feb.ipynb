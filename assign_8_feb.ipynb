{
 "cells": [
  {
   "cell_type": "raw",
   "id": "35729789-db56-4c6b-bfeb-53902458341b",
   "metadata": {},
   "source": [
    "Q1. What is Abstraction in OOps? Explain with an example.\n",
    "A. Abstraction is the process of taking away or removing characteristics from something in order to reduce it to a set of essential characteristics. In object-oriented programming, abstraction is one of three central principles (along with encapsulation and inheritance). Through the process of abstraction, a programmer hides all but the relevant data about an object in order to reduce complexity and increase efficiency. \n",
    "Eg-\n",
    "import abc\n",
    "class pwskills:\n",
    "    @abc.abstractmethod\n",
    "    def students_details(self):\n",
    "        pass\n",
    "    @abc.abstractmethod\n",
    "    def student_assignment(self):\n",
    "        pass\n",
    "    @abc.abstractmethod\n",
    "    def students_marks(self):\n",
    "        pass\n",
    "class students_details(pwskills):\n",
    "    def students_details(self):\n",
    "        return \"this is a meth for taking students details\"\n",
    "    def student_assignments(self):\n",
    "        return \"this is a meth for assignment details for  particular student\"\n",
    "class data_science_masters(pwskills):\n",
    "    def students_details(self):\n",
    "        return \"this will return a student details for data science masters\"\n",
    "    def student_assignment(self):\n",
    "        return \"this will give you a student assignment details for data science masters\"\n",
    "dsm = data_science_masters()\n",
    "dsm.students_details()\n",
    "sd = students_details()\n",
    "sd.students_details()"
   ]
  },
  {
   "cell_type": "raw",
   "id": "9569bef8-216f-4465-8749-4a61e417444e",
   "metadata": {},
   "source": [
    "Q2. Differentiate between Abstraction and Encapsulation. Explain with an example. \n",
    "A2. Abstraction means we focus on the essential qualities of some thing rather than one specific example and we automatically discard what is unimportant or irrelevant.\n",
    "Eg - We are writing a bank account class,essential qualities of bank account are Withrawal, Deposition, Account type,Account number,Balance etc...\n",
    "Encapsulation means the idea of capsulation or surrounding some thing not just to keep the content together but also to protect and restrict form accessing out side.Along with secrecy It's about reducing dependencies between different parts of the application.\n",
    "Eg - In our Bank account class Someone accessing the attribute of Balance and trying to change it ,Attempt can be successful if there is no encapsulation."
   ]
  },
  {
   "cell_type": "raw",
   "id": "1db9623a-9f42-4733-a224-587a7ca6d1cd",
   "metadata": {},
   "source": [
    "Q3. What is abc module in python? Why is it used?\n",
    "A3. An abstract base class is a class that is used as a blueprint for other classes. Abstract base classes are a powerful feature in Python since they help you define a blueprint for other classes that may have something in common.\n",
    "An abstract base class is “Abstract” because it is non-existent – it’s just an ideal way for some other class to exist, but it cannot exist on its own."
   ]
  },
  {
   "cell_type": "raw",
   "id": "6509902c-1736-465c-8c45-f5ef6b717953",
   "metadata": {},
   "source": [
    "Q4. How can we achieve data abstraction?\n",
    "A4. In Python, abstraction can be achieved by having/using built_in abstract classes and methods in our programs. An abstract method is a method that is declared, but does not contain implementation."
   ]
  },
  {
   "cell_type": "raw",
   "id": "20e64ea6-0f85-459e-b131-06badb438bc6",
   "metadata": {},
   "source": [
    "Q5. Can we create an instance of an abstract class? Explain your answer.\n",
    "A5. No, we cannot create an instance of an abstract class as they cannot be instantiated, but they can be subclassed and the abstract classes are not complete as they may have some methods that aren't defined. So we can't create an instance or object of an abstract class in Python."
   ]
  }
 ],
 "metadata": {
  "kernelspec": {
   "display_name": "Python 3 (ipykernel)",
   "language": "python",
   "name": "python3"
  },
  "language_info": {
   "codemirror_mode": {
    "name": "ipython",
    "version": 3
   },
   "file_extension": ".py",
   "mimetype": "text/x-python",
   "name": "python",
   "nbconvert_exporter": "python",
   "pygments_lexer": "ipython3",
   "version": "3.10.8"
  }
 },
 "nbformat": 4,
 "nbformat_minor": 5
}
