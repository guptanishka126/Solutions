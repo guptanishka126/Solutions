{
 "cells": [
  {
   "cell_type": "markdown",
   "id": "9862a49f-3d7f-4433-b0ca-9fde6235824d",
   "metadata": {},
   "source": [
    "#Ans1. \n",
    "1) You would typically use a for loop when you know the exact number of iterations you need to perform. It is useful when you have a collection of elements or a known range of values to iterate over. \n",
    "For eg.\n",
    "for i in range(1, 8):\n",
    "    print(i)\n",
    "This will print the numbers from 1 to 7. The for loop iterates over the range of values from 1 to 7, and at each iteration, it prints the current value of 'i'. \n",
    "2) You would typically use a while loop when you need to repeat a block of code until a specific condition becomes 'False'. It is useful when the number of iterations is unknown or depends on certain conditions. \n",
    "For eg.\n",
    "count = 1\n",
    "while count <= 10:\n",
    "    print(count)\n",
    "    count += 1\n",
    "this will print numbers from 1 to 10 this is because the while loop continues util the count variable becomes greater than 10. At each iteratiom, it prints the current value of count and increments it by 1."
   ]
  },
  {
   "cell_type": "markdown",
   "id": "671f59d0-0932-4ed0-89a3-33fcc734acce",
   "metadata": {},
   "source": [
    "#Ans2.\n",
    "1) Using a for loop-\n",
    "num = range(1,11)\n",
    "addition = 0\n",
    "product = 1\n",
    "for i in num:\n",
    "    addition += i\n",
    "    product = product * i\n",
    "print(\"Result using a for loop\")\n",
    "print(\"The result of the sum of 10 natural numbers :\",addition)\n",
    "print(\"The result of the product of 10 natural numbers :\",product)\n",
    "2) Using a while loop-\n",
    "count = 1\n",
    "add = 0\n",
    "prod = 1\n",
    "while count<=10:\n",
    "    add += count\n",
    "    prod = prod * count\n",
    "    count +=1\n",
    "print(\"Result using a while loop\")\n",
    "print(\"The result of the sum of 10 natural numbers :\",add)\n",
    "print(\"The result of the product of 10 natural numbers :\",prod)"
   ]
  },
  {
   "cell_type": "code",
   "execution_count": 1,
   "id": "5139b5bf-dee9-4768-a1b7-87f676e7362e",
   "metadata": {},
   "outputs": [
    {
     "name": "stdin",
     "output_type": "stream",
     "text": [
      "Enter the units of electricity consumed in a month :  310\n"
     ]
    },
    {
     "name": "stdout",
     "output_type": "stream",
     "text": [
      "The total electricity bill should be : 2250.0\n"
     ]
    }
   ],
   "source": [
    "#Ans3.\n",
    "elec_consume = int(input(\"Enter the units of electricity consumed in a month : \"))\n",
    "total = 0\n",
    "units_left = elec_consume\n",
    "if units_left <= 100:\n",
    "    total = units_left*4.5\n",
    "elif units_left <=200:\n",
    "    total = 100*4.5\n",
    "    units_left -= 100\n",
    "    total += units_left*6\n",
    "elif units_left <=300:\n",
    "    total = 100*6 + 100*4.5\n",
    "    units_left -= 200\n",
    "    total += units_left*10\n",
    "else:\n",
    "    total = 100*10 + 100*6 + 100*4.5\n",
    "    units_left -= 300\n",
    "    total +=  units_left*20\n",
    "    \n",
    "print(\"The total electricity bill should be :\",total)"
   ]
  },
  {
   "cell_type": "code",
   "execution_count": 2,
   "id": "f356f72f-3ebb-44a3-96ea-14b6cde91ca1",
   "metadata": {},
   "outputs": [
    {
     "name": "stdout",
     "output_type": "stream",
     "text": [
      "Result using for loop : The numbers whose cube is completely divisible by 4 or 5 are : [2, 4, 5, 6, 8, 10, 12, 14, 15, 16, 18, 20, 22, 24, 25, 26, 28, 30, 32, 34, 35, 36, 38, 40, 42, 44, 45, 46, 48, 50, 52, 54, 55, 56, 58, 60, 62, 64, 65, 66, 68, 70, 72, 74, 75, 76, 78, 80, 82, 84, 85, 86, 88, 90, 92, 94, 95, 96, 98, 100]\n"
     ]
    }
   ],
   "source": [
    "#Ans4\n",
    "#Using a for loop.\n",
    "num = []\n",
    "for i in range(1,101):\n",
    "    cube = i**3\n",
    "    if cube%4 == 0 or cube%5 == 0:\n",
    "        num.append(i)\n",
    "print(\"Result using for loop : The numbers whose cube is completely divisible by 4 or 5 are :\",num)"
   ]
  },
  {
   "cell_type": "code",
   "execution_count": null,
   "id": "edf0c814-d72f-46ce-9372-e09936e2b23f",
   "metadata": {},
   "outputs": [],
   "source": [
    "#Using a while loop.\n",
    "count = 1\n",
    "num = []\n",
    "while count <= 100:\n",
    "    cube = count**3\n",
    "    if cube%4 == 0 or cube%5 == 0:\n",
    "        num.append(count)\n",
    "    count += 1\n",
    "print(\"Result using while loop : The numbers whose cube is completely divisible by 4 or 5 are :\",num)"
   ]
  },
  {
   "cell_type": "code",
   "execution_count": null,
   "id": "ddd6ea78-6ad7-48c8-9492-9a843bbd5a37",
   "metadata": {},
   "outputs": [],
   "source": [
    "#Ans5\n",
    "string = \"I want to become a data scientist\"\n",
    "count = 0\n",
    "for c in string:\n",
    "    if c=='a' or c=='e' or c=='i' or c=='o' or c=='u' or c=='A' or c=='E' or c=='I' or c=='O' or c=='U':\n",
    "        count += 1\n",
    "print(\"The total numbers of vowels in the given string is :\", count)   "
   ]
  },
  {
   "cell_type": "code",
   "execution_count": null,
   "id": "fc33da30-b5cd-4092-9176-584ac5b75794",
   "metadata": {},
   "outputs": [],
   "source": []
  }
 ],
 "metadata": {
  "kernelspec": {
   "display_name": "Python 3 (ipykernel)",
   "language": "python",
   "name": "python3"
  },
  "language_info": {
   "codemirror_mode": {
    "name": "ipython",
    "version": 3
   },
   "file_extension": ".py",
   "mimetype": "text/x-python",
   "name": "python",
   "nbconvert_exporter": "python",
   "pygments_lexer": "ipython3",
   "version": "3.10.8"
  }
 },
 "nbformat": 4,
 "nbformat_minor": 5
}
