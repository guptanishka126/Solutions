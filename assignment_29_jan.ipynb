{
 "cells": [
  {
   "cell_type": "code",
   "execution_count": null,
   "id": "de503fa1-0ce0-4e24-9bf2-7ed48a9d053f",
   "metadata": {},
   "outputs": [],
   "source": [
    "Sol 1. Python Programming Language was developed by \"Guido Van Rossum\"."
   ]
  },
  {
   "cell_type": "code",
   "execution_count": null,
   "id": "a97760dc-3584-41cf-8a5a-ab1428adc2e3",
   "metadata": {},
   "outputs": [],
   "source": [
    "Sol 2. The Python Language supports object-oriented and structured type of programming."
   ]
  },
  {
   "cell_type": "code",
   "execution_count": null,
   "id": "c4f82bf7-97b5-4878-9c8b-593df62193cf",
   "metadata": {},
   "outputs": [],
   "source": [
    "Sol 3. Yes, Python is case sensitive when dealing with identifiers. "
   ]
  },
  {
   "cell_type": "code",
   "execution_count": null,
   "id": "aa32fee6-5cfc-46c9-89ba-d353794ed309",
   "metadata": {},
   "outputs": [],
   "source": [
    "Sol 4. The correct extension of the Python file is '.py'."
   ]
  },
  {
   "cell_type": "code",
   "execution_count": null,
   "id": "0012f636-01d1-4540-b2a2-f0964c7241d1",
   "metadata": {},
   "outputs": [],
   "source": [
    "Sol 5. The Python Programming Language interpretes the codes, and the execute it."
   ]
  },
  {
   "cell_type": "code",
   "execution_count": null,
   "id": "4de51e30-8c51-4e6d-9c85-7b9754f57be9",
   "metadata": {},
   "outputs": [],
   "source": [
    "Sol 6. A few blocks of code used to define in Python language are a module, a function body and a class definition."
   ]
  },
  {
   "cell_type": "code",
   "execution_count": null,
   "id": "aa5a71a8-7449-47ef-ad99-662e7a607829",
   "metadata": {},
   "outputs": [],
   "source": [
    "Sol 7. The character hash('#') is used to give single line comments in python."
   ]
  },
  {
   "cell_type": "code",
   "execution_count": null,
   "id": "08777154-2a04-48c8-a0d4-ec5a1450b6e8",
   "metadata": {},
   "outputs": [],
   "source": [
    "Sol 8. Sys.version is a fuction which can help us to find the version of python that we are currently working on."
   ]
  },
  {
   "cell_type": "code",
   "execution_count": null,
   "id": "a4691c13-1a48-4c57-a5a7-4d533cb5586a",
   "metadata": {},
   "outputs": [],
   "source": [
    "Sol 9. Python supports the creation of anonymous functions at runtime, using a construct called Lambda."
   ]
  },
  {
   "cell_type": "code",
   "execution_count": null,
   "id": "4c08faa1-3187-4e2a-aaa7-c131ee2e5b41",
   "metadata": {},
   "outputs": [],
   "source": [
    "Sol 10. Pip stands for Pip Install Packages in Python."
   ]
  },
  {
   "cell_type": "code",
   "execution_count": null,
   "id": "edf60b20-033e-4351-92a8-db2e0c26fabe",
   "metadata": {},
   "outputs": [],
   "source": [
    "Sol 11. Some of the built-in functions in python are as follows:\n",
    "        len()\n",
    "        print()\n",
    "        complex()\n",
    "        dict()\n",
    "        set()\n",
    "        bool()\n",
    "        list()\n",
    "        tuple()\n",
    "        type()\n",
    "        int()"
   ]
  },
  {
   "cell_type": "code",
   "execution_count": null,
   "id": "67be41a8-9f8f-454f-ae22-5cf2e5e0caad",
   "metadata": {},
   "outputs": [],
   "source": [
    "Sol 12. The maximum possible length of an identifeier in Python is 79 characters."
   ]
  },
  {
   "cell_type": "code",
   "execution_count": null,
   "id": "9c8ef42d-0e03-443f-bdc9-f096a6f6605e",
   "metadata": {},
   "outputs": [],
   "source": [
    "Sol 13. Some benefits of using Python are :\n",
    "     1) Easy to learn and use.\n",
    "     2) It is a versatile programming language.\n",
    "     3) It has a large and active community also it has wide variety of libraries and frameworks like Django and Flask.\n",
    "     4) Python is a popular choice for data analytics due to its powerful data manipulation and visualization libraries.\n",
    "     5) It has the ability to handle large amounts of data."
   ]
  },
  {
   "cell_type": "code",
   "execution_count": null,
   "id": "bd8a0d9c-4df9-4251-bce0-104436ccc945",
   "metadata": {},
   "outputs": [],
   "source": [
    "Sol 14. The memory management is done in Python by the Python private heap space."
   ]
  },
  {
   "cell_type": "code",
   "execution_count": null,
   "id": "f78a5c64-6630-4c6c-9232-ce0671f1260a",
   "metadata": {},
   "outputs": [],
   "source": [
    "Sol 15. The complete path of python.exe can be added by:\n",
    "\n",
    "     1) Right-clicking This PC and going to Properties.\n",
    "     2) Clicking on the Advanced system settings in the menu on the left.\n",
    "     3) Clicking on the Environment Variables button o​n the bottom right.\n",
    "     4) In the System variables section, selecting the Path variable and clicking on Edit. The next screen will show all the directories that are currently a part of the PATH variable.\n",
    "     5) Clicking on New and entering Python’s install directory."
   ]
  },
  {
   "cell_type": "code",
   "execution_count": null,
   "id": "6c7cf9d7-4c67-409b-a3b0-0829c331efd5",
   "metadata": {},
   "outputs": [],
   "source": [
    "Sol 16. Yes, Indentation is required in python. Either it is 4 spaces or just 1."
   ]
  }
 ],
 "metadata": {
  "kernelspec": {
   "display_name": "Python 3 (ipykernel)",
   "language": "python",
   "name": "python3"
  },
  "language_info": {
   "codemirror_mode": {
    "name": "ipython",
    "version": 3
   },
   "file_extension": ".py",
   "mimetype": "text/x-python",
   "name": "python",
   "nbconvert_exporter": "python",
   "pygments_lexer": "ipython3",
   "version": "3.10.8"
  }
 },
 "nbformat": 4,
 "nbformat_minor": 5
}
