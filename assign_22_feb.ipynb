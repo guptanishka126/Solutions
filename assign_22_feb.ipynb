{
 "cells": [
  {
   "cell_type": "code",
   "execution_count": 1,
   "id": "466170de-d841-4ed1-acdd-7d502cc6e234",
   "metadata": {},
   "outputs": [],
   "source": [
    "import pandas as pd"
   ]
  },
  {
   "cell_type": "code",
   "execution_count": 2,
   "id": "107a8c5f-bcd0-441b-bff7-0c7992abd8e7",
   "metadata": {},
   "outputs": [
    {
     "name": "stdout",
     "output_type": "stream",
     "text": [
      "Requirement already satisfied: pandas in /opt/conda/lib/python3.10/site-packages (1.5.2)\n",
      "Requirement already satisfied: python-dateutil>=2.8.1 in /opt/conda/lib/python3.10/site-packages (from pandas) (2.8.2)\n",
      "Requirement already satisfied: pytz>=2020.1 in /opt/conda/lib/python3.10/site-packages (from pandas) (2022.6)\n",
      "Requirement already satisfied: numpy>=1.21.0 in /opt/conda/lib/python3.10/site-packages (from pandas) (1.23.5)\n",
      "Requirement already satisfied: six>=1.5 in /opt/conda/lib/python3.10/site-packages (from python-dateutil>=2.8.1->pandas) (1.16.0)\n",
      "Note: you may need to restart the kernel to use updated packages.\n"
     ]
    }
   ],
   "source": [
    "pip install pandas"
   ]
  },
  {
   "cell_type": "code",
   "execution_count": 2,
   "id": "21451dac-25f2-422b-8da9-e530da17305c",
   "metadata": {},
   "outputs": [
    {
     "name": "stdout",
     "output_type": "stream",
     "text": [
      "The required series of the given data is as follows :\n",
      "0     4\n",
      "1     8\n",
      "2    15\n",
      "3    16\n",
      "4    23\n",
      "5    42\n",
      "dtype: int64\n"
     ]
    }
   ],
   "source": [
    "#A1.\n",
    "import pandas as pd\n",
    "pd1 = pd.Series([4,8,15,16,23,42])\n",
    "print(\"The required series of the given data is as follows :\")\n",
    "print(pd1)"
   ]
  },
  {
   "cell_type": "code",
   "execution_count": 3,
   "id": "4949f557-aeb3-482e-adbe-76ff07a8ce51",
   "metadata": {},
   "outputs": [
    {
     "name": "stdout",
     "output_type": "stream",
     "text": [
      "0     2\n",
      "1     4\n",
      "2     6\n",
      "3     8\n",
      "4    10\n",
      "5    12\n",
      "6    14\n",
      "7    16\n",
      "8    18\n",
      "9    20\n",
      "dtype: int64\n"
     ]
    }
   ],
   "source": [
    "#A2.\n",
    "import pandas as pd\n",
    "list1 = [2,4,6,8,10,12,14,16,18,20]\n",
    "series = pd.Series(list1)\n",
    "print(series)"
   ]
  },
  {
   "cell_type": "code",
   "execution_count": 4,
   "id": "ec2c9fd1-970c-4bd5-9731-21551cd6acce",
   "metadata": {},
   "outputs": [
    {
     "name": "stdout",
     "output_type": "stream",
     "text": [
      "The DataFrame created using given data is as follows :\n"
     ]
    },
    {
     "data": {
      "text/html": [
       "<div>\n",
       "<style scoped>\n",
       "    .dataframe tbody tr th:only-of-type {\n",
       "        vertical-align: middle;\n",
       "    }\n",
       "\n",
       "    .dataframe tbody tr th {\n",
       "        vertical-align: top;\n",
       "    }\n",
       "\n",
       "    .dataframe thead th {\n",
       "        text-align: right;\n",
       "    }\n",
       "</style>\n",
       "<table border=\"1\" class=\"dataframe\">\n",
       "  <thead>\n",
       "    <tr style=\"text-align: right;\">\n",
       "      <th></th>\n",
       "      <th>Name</th>\n",
       "      <th>Age</th>\n",
       "      <th>Gender</th>\n",
       "    </tr>\n",
       "  </thead>\n",
       "  <tbody>\n",
       "    <tr>\n",
       "      <th>0</th>\n",
       "      <td>Alice</td>\n",
       "      <td>25</td>\n",
       "      <td>Female</td>\n",
       "    </tr>\n",
       "    <tr>\n",
       "      <th>1</th>\n",
       "      <td>Bob</td>\n",
       "      <td>30</td>\n",
       "      <td>Male</td>\n",
       "    </tr>\n",
       "    <tr>\n",
       "      <th>2</th>\n",
       "      <td>Claire</td>\n",
       "      <td>27</td>\n",
       "      <td>Female</td>\n",
       "    </tr>\n",
       "  </tbody>\n",
       "</table>\n",
       "</div>"
      ],
      "text/plain": [
       "     Name  Age  Gender\n",
       "0   Alice   25  Female\n",
       "1     Bob   30    Male\n",
       "2  Claire   27  Female"
      ]
     },
     "execution_count": 4,
     "metadata": {},
     "output_type": "execute_result"
    }
   ],
   "source": [
    "#A3.\n",
    "import pandas as pd\n",
    "data = { \"Name\" : ['Alice', 'Bob', 'Claire'],\n",
    "      \"Age\" : [25, 30, 27],\n",
    "      \"Gender\" : ['Female', 'Male', 'Female']}\n",
    "df1 = pd.DataFrame(data)\n",
    "print(\"The DataFrame created using given data is as follows :\")\n",
    "df1"
   ]
  },
  {
   "cell_type": "markdown",
   "id": "473dc338-7210-43a6-8b92-c130e85fe76a",
   "metadata": {},
   "source": [
    "#A4.\n",
    "In Pandas, a DataFrame is a two-dimensional labeled data structure that can store data of different types (numeric, string, boolean, etc.). It is similar to a table or a spreadsheet, where data is organized in rows and columns. A DataFrame provides a powerful and flexible way to manipulate, analyze, and visualize data.\n",
    "\n",
    "On the other hand, a Series in Pandas is a one-dimensional labeled array that can store data of a single data type. It is similar to a column in a DataFrame or a single column of a spreadsheet. A Series is useful for working with a single column or a single variable, while a DataFrame is suitable for working with multiple columns and performing operations across multiple variables.\n",
    "\n",
    "Below is an example from which it is clear that a DataFrame contains multiple columns whereas a Series contains only a single column."
   ]
  },
  {
   "cell_type": "code",
   "execution_count": 5,
   "id": "138b3041-8096-4983-a3df-d695eeb7e155",
   "metadata": {},
   "outputs": [
    {
     "name": "stdout",
     "output_type": "stream",
     "text": [
      "DataFrame : \n",
      "      Name  Age     City\n",
      "0   Jannat   25  Lucknow\n",
      "1    Anant   30     Pune\n",
      "2  Bhaskar   28  Gujarat\n",
      "Series : \n",
      "0    25\n",
      "1    30\n",
      "2    28\n",
      "Name: Age, dtype: int64\n"
     ]
    }
   ],
   "source": [
    "#Example of A4. \n",
    "import pandas as pd\n",
    "data = {'Name': ['Jannat', 'Anant', 'Bhaskar'],\n",
    "        'Age': [25, 30, 28],\n",
    "        'City': ['Lucknow', 'Pune', 'Gujarat']}\n",
    "df = pd.DataFrame(data)\n",
    "print(\"DataFrame : \")\n",
    "print(df)\n",
    "\n",
    "age = pd.Series([25, 30, 28], name='Age')\n",
    "print(\"Series : \")\n",
    "print(age)"
   ]
  },
  {
   "cell_type": "markdown",
   "id": "eeedec75-af72-4707-a771-0ec8a5ea299c",
   "metadata": {},
   "source": [
    "#A5. \n",
    "Pandas library provides us a wide range of functions and methods to manipulate data in a DataFrame. Some of the functions are :\n",
    "1) head() and tail() : These functions allow you to see the first few(5) rows or the last few(5) rows of an existing DataFrame. \n",
    "2) describe() :  This function generates descriptive statistics of the numerical columns in the DataFrame, such as count, mean, standard deviation, minimum, maximum, and quartile values. It gives a summary overview of the distribution of the data.\n",
    "3) unique() : This function returns the unique values in a column of the DataFrame. It is useful for exploring the distinct values present in a categorical or discrete variable.\n",
    "4) drop() : This method allows you to remove rows or columns from the DataFrame. It is useful when you want to eliminate unnecessary data or columns that are not relevant to your analysis.\n",
    "5) groupby() : This method is used to group the DataFrame by one or more columns and perform operations on each group. It is often used in combination with other functions, such as sum(), mean(), count(), etc., to calculate aggregated statistics for each group.\n",
    "6) For example - You might use the head() function to quickly check the first few rows of a DataFrame and ensure that the data is loaded correctly. The drop() function can be used to remove unnecessary row or column that is no longer needed. The describe() method is useful when you want to check the count, mean, standard deviation,  minimum  or maximum etc. for the columns of your data."
   ]
  },
  {
   "cell_type": "markdown",
   "id": "f567601f-4921-4895-bfa1-e86f79888c6e",
   "metadata": {},
   "source": [
    "#A6.\n",
    "According to the question, Series and DataFrame are mutable in nature, while Panel is not.\n",
    "In Pandas, a mutable object refers to an object that can be modified after it is created. Mutable objects allow you to change their values, add or remove elements, or modify existing elements.\n",
    "Series and DataFrame are mutable objects in Pandas, meaning you can modify their values, add or remove rows or columns, and perform various operations that alter their structure or content.\n",
    "On the other hand, Panel is an immutable object in Pandas. The Panel data structure has been deprecated in recent versions of Pandas, and it is recommended to use other data structures, such as multi-indexed DataFrames, to handle similar use cases."
   ]
  },
  {
   "cell_type": "code",
   "execution_count": 6,
   "id": "60adf88e-2538-4e96-8c8d-cfda5973ad2a",
   "metadata": {},
   "outputs": [
    {
     "name": "stdout",
     "output_type": "stream",
     "text": [
      "The DataFrame using multiple series is created and it is given as follows : \n"
     ]
    },
    {
     "data": {
      "text/html": [
       "<div>\n",
       "<style scoped>\n",
       "    .dataframe tbody tr th:only-of-type {\n",
       "        vertical-align: middle;\n",
       "    }\n",
       "\n",
       "    .dataframe tbody tr th {\n",
       "        vertical-align: top;\n",
       "    }\n",
       "\n",
       "    .dataframe thead th {\n",
       "        text-align: right;\n",
       "    }\n",
       "</style>\n",
       "<table border=\"1\" class=\"dataframe\">\n",
       "  <thead>\n",
       "    <tr style=\"text-align: right;\">\n",
       "      <th></th>\n",
       "      <th>Name</th>\n",
       "      <th>Age</th>\n",
       "      <th>City</th>\n",
       "    </tr>\n",
       "  </thead>\n",
       "  <tbody>\n",
       "    <tr>\n",
       "      <th>0</th>\n",
       "      <td>Abhi</td>\n",
       "      <td>23</td>\n",
       "      <td>Agra</td>\n",
       "    </tr>\n",
       "    <tr>\n",
       "      <th>1</th>\n",
       "      <td>Ashu</td>\n",
       "      <td>25</td>\n",
       "      <td>Delhi</td>\n",
       "    </tr>\n",
       "    <tr>\n",
       "      <th>2</th>\n",
       "      <td>Manas</td>\n",
       "      <td>21</td>\n",
       "      <td>Pune</td>\n",
       "    </tr>\n",
       "  </tbody>\n",
       "</table>\n",
       "</div>"
      ],
      "text/plain": [
       "    Name  Age   City\n",
       "0   Abhi   23   Agra\n",
       "1   Ashu   25  Delhi\n",
       "2  Manas   21   Pune"
      ]
     },
     "execution_count": 6,
     "metadata": {},
     "output_type": "execute_result"
    }
   ],
   "source": [
    "#A7.\n",
    "import pandas as pd\n",
    "name_s = pd.Series(['Abhi', 'Ashu', 'Manas'])\n",
    "age_s = pd.Series([23,25,21])\n",
    "city_s = pd.Series(['Agra','Delhi','Pune'])\n",
    "\n",
    "df = pd.DataFrame({'Name' : name_s,\n",
    "                  'Age' : age_s,\n",
    "                  'City' : city_s})\n",
    "print(\"The DataFrame using multiple series is created and it is given as follows : \")\n",
    "df"
   ]
  }
 ],
 "metadata": {
  "kernelspec": {
   "display_name": "Python 3 (ipykernel)",
   "language": "python",
   "name": "python3"
  },
  "language_info": {
   "codemirror_mode": {
    "name": "ipython",
    "version": 3
   },
   "file_extension": ".py",
   "mimetype": "text/x-python",
   "name": "python",
   "nbconvert_exporter": "python",
   "pygments_lexer": "ipython3",
   "version": "3.10.8"
  }
 },
 "nbformat": 4,
 "nbformat_minor": 5
}
