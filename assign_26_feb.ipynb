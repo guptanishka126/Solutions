{
 "cells": [
  {
   "cell_type": "markdown",
   "id": "1d42f0b8-7e3b-43dc-9651-e86c47e5bebe",
   "metadata": {},
   "source": [
    "A1.Yes, there is a difference in the data type of variables list_ and array_list as the variable list_ belongs to the datatype 'list' and the variable array_list belongs to the dtype('<U1') unicode whose data size or element bit size is less than 1."
   ]
  },
  {
   "cell_type": "code",
   "execution_count": 41,
   "id": "1ba39ba6-3caa-48e6-bd42-eef581d8d6a6",
   "metadata": {},
   "outputs": [
    {
     "data": {
      "text/plain": [
       "(list, dtype('<U1'))"
      ]
     },
     "execution_count": 41,
     "metadata": {},
     "output_type": "execute_result"
    }
   ],
   "source": [
    "#Example of A1.\n",
    "import numpy as np\n",
    "list_ = ['1','2','3','4','5']\n",
    "array_list = np.array(object = list_)\n",
    "type(list_), array_list.dtype"
   ]
  },
  {
   "cell_type": "code",
   "execution_count": 37,
   "id": "738811c2-5e2f-4780-9f55-6776714fba8e",
   "metadata": {},
   "outputs": [
    {
     "name": "stdout",
     "output_type": "stream",
     "text": [
      "The data type of the elements present in the list_ variable : \n",
      "<class 'list'> <class 'str'>\n",
      "<class 'list'> <class 'str'>\n",
      "<class 'list'> <class 'str'>\n",
      "<class 'list'> <class 'str'>\n",
      "<class 'list'> <class 'str'>\n",
      "*******************************************************************\n",
      "The data type of the elements present in the array_list variable : \n",
      "<class 'numpy.ndarray'> <U1\n",
      "<class 'numpy.ndarray'> <U1\n",
      "<class 'numpy.ndarray'> <U1\n",
      "<class 'numpy.ndarray'> <U1\n",
      "<class 'numpy.ndarray'> <U1\n"
     ]
    }
   ],
   "source": [
    "#A2.\n",
    "import numpy as np\n",
    "list_ = ['1','2','3','4','5']\n",
    "array_list = np.array(object = list_)\n",
    "print(\"The data type of the elements present in the list_ variable : \")\n",
    "for i in list_:\n",
    "    print(type(list_), type(i))\n",
    "print(\"*******************************************************************\")\n",
    "print(\"The data type of the elements present in the array_list variable : \")\n",
    "for i in np.nditer(array_list):\n",
    "    print(type(i), array_list.dtype)"
   ]
  },
  {
   "cell_type": "markdown",
   "id": "5849cd60-bdf3-46ba-9098-a7ddb89bc4c2",
   "metadata": {},
   "source": [
    "A3. Yes, there will be only one difference that the data type of the elements present in the array_list will be changed into 'int64' from the '<U1' whereas the data type of the elements present in the list_ variable will stay same as 'str'."
   ]
  },
  {
   "cell_type": "code",
   "execution_count": 40,
   "id": "cb686b4f-fb45-4cc7-a1fd-bbf6d8810439",
   "metadata": {},
   "outputs": [
    {
     "name": "stdout",
     "output_type": "stream",
     "text": [
      "The updated data type of the elements present in the list_ variable : \n",
      "<class 'str'>\n",
      "<class 'str'>\n",
      "<class 'str'>\n",
      "<class 'str'>\n",
      "<class 'str'>\n",
      "**********************************************************\n",
      "The updated data type of the elements present in the array_list variable : \n",
      "int64\n",
      "int64\n",
      "int64\n",
      "int64\n",
      "int64\n"
     ]
    }
   ],
   "source": [
    "#Example of A3.\n",
    "import numpy as np\n",
    "list_ = ['1','2','3','4','5']\n",
    "array_list = np.array(object = list_, dtype = int)\n",
    "print(\"The updated data type of the elements present in the list_ variable : \")\n",
    "for i in list_:\n",
    "    print(type(i))\n",
    "print(\"**********************************************************\")\n",
    "print(\"The updated data type of the elements present in the array_list variable : \")\n",
    "for i in np.nditer(array_list):\n",
    "    print(array_list.dtype)"
   ]
  },
  {
   "cell_type": "code",
   "execution_count": 7,
   "id": "c38acf78-3c2c-4377-9663-3f287f7af528",
   "metadata": {},
   "outputs": [
    {
     "name": "stdout",
     "output_type": "stream",
     "text": [
      "The shape of the array is : (2, 3)\n",
      "The size of the array is : 6\n"
     ]
    }
   ],
   "source": [
    "#A4.\n",
    "import numpy as np\n",
    "num_list = [[ 1, 2, 3] ,[4, 5, 6]]\n",
    "num_array = np.array(object = num_list)\n",
    "#A4. (i)\n",
    "print(\"The shape of the array is :\", num_array.shape)\n",
    "#A4. (ii)\n",
    "print(\"The size of the array is :\", num_array.size)"
   ]
  },
  {
   "cell_type": "code",
   "execution_count": 27,
   "id": "cd169354-3566-4422-ab19-bef7a35299d6",
   "metadata": {},
   "outputs": [
    {
     "name": "stdout",
     "output_type": "stream",
     "text": [
      "The numpy array of 3*3 matrix containing zeros only is given as :\n",
      "[[0. 0. 0.]\n",
      " [0. 0. 0.]\n",
      " [0. 0. 0.]]\n"
     ]
    },
    {
     "data": {
      "text/plain": [
       "(3, 3)"
      ]
     },
     "execution_count": 27,
     "metadata": {},
     "output_type": "execute_result"
    }
   ],
   "source": [
    "#A5.\n",
    "import numpy.matlib as nm\n",
    "arr1 = nm.zeros((3,3))\n",
    "print(\"The numpy array of 3*3 matrix containing zeros only is given as :\")\n",
    "print(arr1)\n",
    "#verifying the hint\n",
    "print(arr1.size\n",
    "arr1.shape"
   ]
  },
  {
   "cell_type": "code",
   "execution_count": 26,
   "id": "579b4df3-cd55-48c8-9eee-df4feba6189a",
   "metadata": {},
   "outputs": [
    {
     "name": "stdout",
     "output_type": "stream",
     "text": [
      "The identity matrix of shape (5,5) using numpy functions is given as :\n",
      "[[1. 0. 0. 0. 0.]\n",
      " [0. 1. 0. 0. 0.]\n",
      " [0. 0. 1. 0. 0.]\n",
      " [0. 0. 0. 1. 0.]\n",
      " [0. 0. 0. 0. 1.]]\n"
     ]
    },
    {
     "data": {
      "text/plain": [
       "(5, 5)"
      ]
     },
     "execution_count": 26,
     "metadata": {},
     "output_type": "execute_result"
    }
   ],
   "source": [
    "#A6.\n",
    "import numpy.matlib as nm\n",
    "arr2 = nm.eye(5)\n",
    "print(\"The identity matrix of shape (5,5) using numpy functions is given as :\")\n",
    "print(arr2)\n",
    "#Verifying the hint\n",
    "arr2.shape"
   ]
  },
  {
   "cell_type": "code",
   "execution_count": 25,
   "id": "f4974e0b-dd41-4e67-aa79-0318ea2b44d6",
   "metadata": {},
   "outputs": [
    {
     "data": {
      "text/plain": [
       "(5, 5)"
      ]
     },
     "execution_count": 25,
     "metadata": {},
     "output_type": "execute_result"
    }
   ],
   "source": []
  },
  {
   "cell_type": "code",
   "execution_count": null,
   "id": "9fad1df1-7c80-488e-9d06-deb4a972e778",
   "metadata": {},
   "outputs": [],
   "source": []
  },
  {
   "cell_type": "code",
   "execution_count": null,
   "id": "a63ffb10-81e3-497c-b87a-a5018efbb854",
   "metadata": {},
   "outputs": [],
   "source": []
  },
  {
   "cell_type": "code",
   "execution_count": null,
   "id": "af5929c8-00bd-4af4-91fb-a6a43a7dace8",
   "metadata": {},
   "outputs": [],
   "source": []
  }
 ],
 "metadata": {
  "kernelspec": {
   "display_name": "Python 3 (ipykernel)",
   "language": "python",
   "name": "python3"
  },
  "language_info": {
   "codemirror_mode": {
    "name": "ipython",
    "version": 3
   },
   "file_extension": ".py",
   "mimetype": "text/x-python",
   "name": "python",
   "nbconvert_exporter": "python",
   "pygments_lexer": "ipython3",
   "version": "3.10.8"
  }
 },
 "nbformat": 4,
 "nbformat_minor": 5
}
